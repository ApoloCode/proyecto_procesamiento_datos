{
 "cells": [
  {
   "cell_type": "markdown",
   "metadata": {},
   "source": [
    "# Análisis del riesgo de incumplimiento de los prestatarios\n",
    "\n",
    "Tu proyecto consiste en preparar un informe para la división de préstamos de un banco. Deberás averiguar si el estado civil y el número de hijos de un cliente tienen un impacto en el incumplimiento de pago de un préstamo. El banco ya tiene algunos datos sobre la solvencia crediticia de los clientes.\n",
    "\n",
    "Tu informe se tendrá en cuenta al crear una **puntuación de crédito** para un cliente potencial. La **puntuación de crédito** se utiliza para evaluar la capacidad de un prestatario potencial para pagar su préstamo."
   ]
  },
  {
   "cell_type": "markdown",
   "metadata": {},
   "source": [
    "# Hipótesis a evaluar\n",
    "\n",
    "Las preguntas que estamos buscando evaluar son:\n",
    "\n",
    "- ¿Hay alguna conexión entre tener hijos y pagar un préstamo a tiempo?\n",
    "- ¿Existe una conexión entre el estado civil y el pago a tiempo de un préstamo?\n",
    "- ¿Existe una conexión entre el nivel de ingresos y el pago a tiempo de un préstamo?\n",
    "- ¿Cómo afectan los diferentes propósitos del préstamo al reembolso a tiempo del préstamo?"
   ]
  },
  {
   "cell_type": "markdown",
   "metadata": {},
   "source": [
    "## Abre el archivo de datos y mira la información general. "
   ]
  },
  {
   "cell_type": "code",
   "execution_count": 1,
   "metadata": {
    "ExecuteTime": {
     "end_time": "2023-07-18T04:30:58.548944300Z",
     "start_time": "2023-07-18T04:30:57.020946200Z"
    }
   },
   "outputs": [],
   "source": [
    "# Cargar todas las librerías\n",
    "import pandas as pd\n",
    "import numpy as np\n",
    "\n",
    "# Carga los datos\n",
    "data = pd.read_csv('data/credit_scoring_eng.csv')"
   ]
  },
  {
   "cell_type": "markdown",
   "metadata": {},
   "source": [
    "## Ejercicio 1. Exploración de datos\n",
    "\n",
    "**Descripción de los datos**\n",
    "- `children` - el número de hijos en la familia\n",
    "- `days_employed` - experiencia laboral en días\n",
    "- `dob_years` - la edad del cliente en años\n",
    "- `education` - la educación del cliente\n",
    "- `education_id` - identificador de educación\n",
    "- `family_status` - estado civil\n",
    "- `family_status_id` - identificador de estado civil\n",
    "- `gender` - género del cliente\n",
    "- `income_type` - tipo de empleo\n",
    "- `debt` - ¿había alguna deuda en el pago de un préstamo?\n",
    "- `total_income` - ingreso mensual\n",
    "- `purpose` - el propósito de obtener un préstamo"
   ]
  },
  {
   "cell_type": "code",
   "execution_count": 2,
   "metadata": {
    "ExecuteTime": {
     "end_time": "2023-07-18T04:30:58.591943300Z",
     "start_time": "2023-07-18T04:30:58.213958600Z"
    }
   },
   "outputs": [
    {
     "data": {
      "text/plain": "(21525, 12)"
     },
     "execution_count": 2,
     "metadata": {},
     "output_type": "execute_result"
    }
   ],
   "source": [
    "# Vamos a ver cuántas filas y columnas tiene nuestro conjunto de datos\n",
    "data.shape"
   ]
  },
  {
   "cell_type": "code",
   "execution_count": 3,
   "metadata": {
    "scrolled": true,
    "ExecuteTime": {
     "end_time": "2023-07-18T04:30:58.593946500Z",
     "start_time": "2023-07-18T04:30:58.243941500Z"
    }
   },
   "outputs": [
    {
     "data": {
      "text/plain": "   children  days_employed  dob_years            education  education_id  \\\n0         1   -8437.673028         42    bachelor's degree             0   \n1         1   -4024.803754         36  secondary education             1   \n2         0   -5623.422610         33  Secondary Education             1   \n3         3   -4124.747207         32  secondary education             1   \n4         0  340266.072047         53  secondary education             1   \n5         0    -926.185831         27    bachelor's degree             0   \n6         0   -2879.202052         43    bachelor's degree             0   \n7         0    -152.779569         50  SECONDARY EDUCATION             1   \n8         2   -6929.865299         35    BACHELOR'S DEGREE             0   \n9         0   -2188.756445         41  secondary education             1   \n\n       family_status  family_status_id gender income_type  debt  total_income  \\\n0            married                 0      F    employee     0     40620.102   \n1            married                 0      F    employee     0     17932.802   \n2            married                 0      M    employee     0     23341.752   \n3            married                 0      M    employee     0     42820.568   \n4  civil partnership                 1      F     retiree     0     25378.572   \n5  civil partnership                 1      M    business     0     40922.170   \n6            married                 0      F    business     0     38484.156   \n7            married                 0      M    employee     0     21731.829   \n8  civil partnership                 1      F    employee     0     15337.093   \n9            married                 0      M    employee     0     23108.150   \n\n                               purpose  \n0                purchase of the house  \n1                         car purchase  \n2                purchase of the house  \n3              supplementary education  \n4                    to have a wedding  \n5                purchase of the house  \n6                 housing transactions  \n7                            education  \n8                     having a wedding  \n9  purchase of the house for my family  ",
      "text/html": "<div>\n<style scoped>\n    .dataframe tbody tr th:only-of-type {\n        vertical-align: middle;\n    }\n\n    .dataframe tbody tr th {\n        vertical-align: top;\n    }\n\n    .dataframe thead th {\n        text-align: right;\n    }\n</style>\n<table border=\"1\" class=\"dataframe\">\n  <thead>\n    <tr style=\"text-align: right;\">\n      <th></th>\n      <th>children</th>\n      <th>days_employed</th>\n      <th>dob_years</th>\n      <th>education</th>\n      <th>education_id</th>\n      <th>family_status</th>\n      <th>family_status_id</th>\n      <th>gender</th>\n      <th>income_type</th>\n      <th>debt</th>\n      <th>total_income</th>\n      <th>purpose</th>\n    </tr>\n  </thead>\n  <tbody>\n    <tr>\n      <th>0</th>\n      <td>1</td>\n      <td>-8437.673028</td>\n      <td>42</td>\n      <td>bachelor's degree</td>\n      <td>0</td>\n      <td>married</td>\n      <td>0</td>\n      <td>F</td>\n      <td>employee</td>\n      <td>0</td>\n      <td>40620.102</td>\n      <td>purchase of the house</td>\n    </tr>\n    <tr>\n      <th>1</th>\n      <td>1</td>\n      <td>-4024.803754</td>\n      <td>36</td>\n      <td>secondary education</td>\n      <td>1</td>\n      <td>married</td>\n      <td>0</td>\n      <td>F</td>\n      <td>employee</td>\n      <td>0</td>\n      <td>17932.802</td>\n      <td>car purchase</td>\n    </tr>\n    <tr>\n      <th>2</th>\n      <td>0</td>\n      <td>-5623.422610</td>\n      <td>33</td>\n      <td>Secondary Education</td>\n      <td>1</td>\n      <td>married</td>\n      <td>0</td>\n      <td>M</td>\n      <td>employee</td>\n      <td>0</td>\n      <td>23341.752</td>\n      <td>purchase of the house</td>\n    </tr>\n    <tr>\n      <th>3</th>\n      <td>3</td>\n      <td>-4124.747207</td>\n      <td>32</td>\n      <td>secondary education</td>\n      <td>1</td>\n      <td>married</td>\n      <td>0</td>\n      <td>M</td>\n      <td>employee</td>\n      <td>0</td>\n      <td>42820.568</td>\n      <td>supplementary education</td>\n    </tr>\n    <tr>\n      <th>4</th>\n      <td>0</td>\n      <td>340266.072047</td>\n      <td>53</td>\n      <td>secondary education</td>\n      <td>1</td>\n      <td>civil partnership</td>\n      <td>1</td>\n      <td>F</td>\n      <td>retiree</td>\n      <td>0</td>\n      <td>25378.572</td>\n      <td>to have a wedding</td>\n    </tr>\n    <tr>\n      <th>5</th>\n      <td>0</td>\n      <td>-926.185831</td>\n      <td>27</td>\n      <td>bachelor's degree</td>\n      <td>0</td>\n      <td>civil partnership</td>\n      <td>1</td>\n      <td>M</td>\n      <td>business</td>\n      <td>0</td>\n      <td>40922.170</td>\n      <td>purchase of the house</td>\n    </tr>\n    <tr>\n      <th>6</th>\n      <td>0</td>\n      <td>-2879.202052</td>\n      <td>43</td>\n      <td>bachelor's degree</td>\n      <td>0</td>\n      <td>married</td>\n      <td>0</td>\n      <td>F</td>\n      <td>business</td>\n      <td>0</td>\n      <td>38484.156</td>\n      <td>housing transactions</td>\n    </tr>\n    <tr>\n      <th>7</th>\n      <td>0</td>\n      <td>-152.779569</td>\n      <td>50</td>\n      <td>SECONDARY EDUCATION</td>\n      <td>1</td>\n      <td>married</td>\n      <td>0</td>\n      <td>M</td>\n      <td>employee</td>\n      <td>0</td>\n      <td>21731.829</td>\n      <td>education</td>\n    </tr>\n    <tr>\n      <th>8</th>\n      <td>2</td>\n      <td>-6929.865299</td>\n      <td>35</td>\n      <td>BACHELOR'S DEGREE</td>\n      <td>0</td>\n      <td>civil partnership</td>\n      <td>1</td>\n      <td>F</td>\n      <td>employee</td>\n      <td>0</td>\n      <td>15337.093</td>\n      <td>having a wedding</td>\n    </tr>\n    <tr>\n      <th>9</th>\n      <td>0</td>\n      <td>-2188.756445</td>\n      <td>41</td>\n      <td>secondary education</td>\n      <td>1</td>\n      <td>married</td>\n      <td>0</td>\n      <td>M</td>\n      <td>employee</td>\n      <td>0</td>\n      <td>23108.150</td>\n      <td>purchase of the house for my family</td>\n    </tr>\n  </tbody>\n</table>\n</div>"
     },
     "execution_count": 3,
     "metadata": {},
     "output_type": "execute_result"
    }
   ],
   "source": [
    "# vamos a mostrar las primeras filas N\n",
    "data.head(10)"
   ]
  },
  {
   "cell_type": "code",
   "execution_count": 4,
   "metadata": {
    "scrolled": false,
    "ExecuteTime": {
     "end_time": "2023-07-18T04:30:58.596011300Z",
     "start_time": "2023-07-18T04:30:58.276943500Z"
    }
   },
   "outputs": [
    {
     "name": "stdout",
     "output_type": "stream",
     "text": [
      "<class 'pandas.core.frame.DataFrame'>\n",
      "RangeIndex: 21525 entries, 0 to 21524\n",
      "Data columns (total 12 columns):\n",
      " #   Column            Non-Null Count  Dtype  \n",
      "---  ------            --------------  -----  \n",
      " 0   children          21525 non-null  int64  \n",
      " 1   days_employed     19351 non-null  float64\n",
      " 2   dob_years         21525 non-null  int64  \n",
      " 3   education         21525 non-null  object \n",
      " 4   education_id      21525 non-null  int64  \n",
      " 5   family_status     21525 non-null  object \n",
      " 6   family_status_id  21525 non-null  int64  \n",
      " 7   gender            21525 non-null  object \n",
      " 8   income_type       21525 non-null  object \n",
      " 9   debt              21525 non-null  int64  \n",
      " 10  total_income      19351 non-null  float64\n",
      " 11  purpose           21525 non-null  object \n",
      "dtypes: float64(2), int64(5), object(5)\n",
      "memory usage: 2.0+ MB\n"
     ]
    }
   ],
   "source": [
    "# Obtener información sobre los datos\n",
    "data.info()"
   ]
  },
  {
   "cell_type": "markdown",
   "metadata": {},
   "source": [
    "Una vez viendo los datos, podemos notar los siguientes puntos:\n",
    "- Hay datos negativos en *days_employed* por lo cual hay que entender porque se pusieron esos negativos, puede ser que sean errores de entrada de datos o tambien puede ser que signifiquen los dias de desempleo de la persona\n",
    "- En la tabla *education* hay datos en mayusculas y minusculas, no estan unificados\n",
    "- Hay datos ausentes en *days_employed* y *total_income*"
   ]
  },
  {
   "cell_type": "code",
   "execution_count": 5,
   "metadata": {
    "ExecuteTime": {
     "end_time": "2023-07-18T04:30:58.597946500Z",
     "start_time": "2023-07-18T04:30:58.324947700Z"
    }
   },
   "outputs": [
    {
     "data": {
      "text/plain": "children               0\ndays_employed       2174\ndob_years              0\neducation              0\neducation_id           0\nfamily_status          0\nfamily_status_id       0\ngender                 0\nincome_type            0\ndebt                   0\ntotal_income        2174\npurpose                0\ndtype: int64"
     },
     "execution_count": 5,
     "metadata": {},
     "output_type": "execute_result"
    }
   ],
   "source": [
    "# Veamos cuantos datos faltantes tenemos en total\n",
    "data.isna().sum()"
   ]
  },
  {
   "cell_type": "code",
   "execution_count": 6,
   "metadata": {
    "scrolled": true,
    "ExecuteTime": {
     "end_time": "2023-07-18T04:30:58.604946300Z",
     "start_time": "2023-07-18T04:30:58.372943200Z"
    }
   },
   "outputs": [
    {
     "data": {
      "text/plain": "       children  days_employed  dob_years            education  education_id  \\\n12            0            NaN         65  secondary education             1   \n26            0            NaN         41  secondary education             1   \n29            0            NaN         63  secondary education             1   \n41            0            NaN         50  secondary education             1   \n55            0            NaN         54  secondary education             1   \n...         ...            ...        ...                  ...           ...   \n21489         2            NaN         47  Secondary Education             1   \n21495         1            NaN         50  secondary education             1   \n21497         0            NaN         48    BACHELOR'S DEGREE             0   \n21502         1            NaN         42  secondary education             1   \n21510         2            NaN         28  secondary education             1   \n\n           family_status  family_status_id gender    income_type  debt  \\\n12     civil partnership                 1      M        retiree     0   \n26               married                 0      M  civil servant     0   \n29             unmarried                 4      F        retiree     0   \n41               married                 0      F  civil servant     0   \n55     civil partnership                 1      F        retiree     1   \n...                  ...               ...    ...            ...   ...   \n21489            married                 0      M       business     0   \n21495  civil partnership                 1      F       employee     0   \n21497            married                 0      F       business     0   \n21502            married                 0      F       employee     0   \n21510            married                 0      F       employee     0   \n\n       total_income                   purpose  \n12              NaN         to have a wedding  \n26              NaN                 education  \n29              NaN    building a real estate  \n41              NaN  second-hand car purchase  \n55              NaN         to have a wedding  \n...             ...                       ...  \n21489           NaN         purchase of a car  \n21495           NaN          wedding ceremony  \n21497           NaN       building a property  \n21502           NaN    building a real estate  \n21510           NaN              car purchase  \n\n[2174 rows x 12 columns]",
      "text/html": "<div>\n<style scoped>\n    .dataframe tbody tr th:only-of-type {\n        vertical-align: middle;\n    }\n\n    .dataframe tbody tr th {\n        vertical-align: top;\n    }\n\n    .dataframe thead th {\n        text-align: right;\n    }\n</style>\n<table border=\"1\" class=\"dataframe\">\n  <thead>\n    <tr style=\"text-align: right;\">\n      <th></th>\n      <th>children</th>\n      <th>days_employed</th>\n      <th>dob_years</th>\n      <th>education</th>\n      <th>education_id</th>\n      <th>family_status</th>\n      <th>family_status_id</th>\n      <th>gender</th>\n      <th>income_type</th>\n      <th>debt</th>\n      <th>total_income</th>\n      <th>purpose</th>\n    </tr>\n  </thead>\n  <tbody>\n    <tr>\n      <th>12</th>\n      <td>0</td>\n      <td>NaN</td>\n      <td>65</td>\n      <td>secondary education</td>\n      <td>1</td>\n      <td>civil partnership</td>\n      <td>1</td>\n      <td>M</td>\n      <td>retiree</td>\n      <td>0</td>\n      <td>NaN</td>\n      <td>to have a wedding</td>\n    </tr>\n    <tr>\n      <th>26</th>\n      <td>0</td>\n      <td>NaN</td>\n      <td>41</td>\n      <td>secondary education</td>\n      <td>1</td>\n      <td>married</td>\n      <td>0</td>\n      <td>M</td>\n      <td>civil servant</td>\n      <td>0</td>\n      <td>NaN</td>\n      <td>education</td>\n    </tr>\n    <tr>\n      <th>29</th>\n      <td>0</td>\n      <td>NaN</td>\n      <td>63</td>\n      <td>secondary education</td>\n      <td>1</td>\n      <td>unmarried</td>\n      <td>4</td>\n      <td>F</td>\n      <td>retiree</td>\n      <td>0</td>\n      <td>NaN</td>\n      <td>building a real estate</td>\n    </tr>\n    <tr>\n      <th>41</th>\n      <td>0</td>\n      <td>NaN</td>\n      <td>50</td>\n      <td>secondary education</td>\n      <td>1</td>\n      <td>married</td>\n      <td>0</td>\n      <td>F</td>\n      <td>civil servant</td>\n      <td>0</td>\n      <td>NaN</td>\n      <td>second-hand car purchase</td>\n    </tr>\n    <tr>\n      <th>55</th>\n      <td>0</td>\n      <td>NaN</td>\n      <td>54</td>\n      <td>secondary education</td>\n      <td>1</td>\n      <td>civil partnership</td>\n      <td>1</td>\n      <td>F</td>\n      <td>retiree</td>\n      <td>1</td>\n      <td>NaN</td>\n      <td>to have a wedding</td>\n    </tr>\n    <tr>\n      <th>...</th>\n      <td>...</td>\n      <td>...</td>\n      <td>...</td>\n      <td>...</td>\n      <td>...</td>\n      <td>...</td>\n      <td>...</td>\n      <td>...</td>\n      <td>...</td>\n      <td>...</td>\n      <td>...</td>\n      <td>...</td>\n    </tr>\n    <tr>\n      <th>21489</th>\n      <td>2</td>\n      <td>NaN</td>\n      <td>47</td>\n      <td>Secondary Education</td>\n      <td>1</td>\n      <td>married</td>\n      <td>0</td>\n      <td>M</td>\n      <td>business</td>\n      <td>0</td>\n      <td>NaN</td>\n      <td>purchase of a car</td>\n    </tr>\n    <tr>\n      <th>21495</th>\n      <td>1</td>\n      <td>NaN</td>\n      <td>50</td>\n      <td>secondary education</td>\n      <td>1</td>\n      <td>civil partnership</td>\n      <td>1</td>\n      <td>F</td>\n      <td>employee</td>\n      <td>0</td>\n      <td>NaN</td>\n      <td>wedding ceremony</td>\n    </tr>\n    <tr>\n      <th>21497</th>\n      <td>0</td>\n      <td>NaN</td>\n      <td>48</td>\n      <td>BACHELOR'S DEGREE</td>\n      <td>0</td>\n      <td>married</td>\n      <td>0</td>\n      <td>F</td>\n      <td>business</td>\n      <td>0</td>\n      <td>NaN</td>\n      <td>building a property</td>\n    </tr>\n    <tr>\n      <th>21502</th>\n      <td>1</td>\n      <td>NaN</td>\n      <td>42</td>\n      <td>secondary education</td>\n      <td>1</td>\n      <td>married</td>\n      <td>0</td>\n      <td>F</td>\n      <td>employee</td>\n      <td>0</td>\n      <td>NaN</td>\n      <td>building a real estate</td>\n    </tr>\n    <tr>\n      <th>21510</th>\n      <td>2</td>\n      <td>NaN</td>\n      <td>28</td>\n      <td>secondary education</td>\n      <td>1</td>\n      <td>married</td>\n      <td>0</td>\n      <td>F</td>\n      <td>employee</td>\n      <td>0</td>\n      <td>NaN</td>\n      <td>car purchase</td>\n    </tr>\n  </tbody>\n</table>\n<p>2174 rows × 12 columns</p>\n</div>"
     },
     "execution_count": 6,
     "metadata": {},
     "output_type": "execute_result"
    }
   ],
   "source": [
    "# Veamos la tabla filtrada con valores ausentes de la primera columna donde faltan datos\n",
    "data[data['days_employed'].isna()]"
   ]
  },
  {
   "cell_type": "markdown",
   "metadata": {},
   "source": [
    "Viendo los datos, parece que nuestras dos columnas con datos faltantes los presentan en las mismas filas. Esto puede tener sentido ya que sin dias trabajados, no hay ingreso que declarar.\n",
    "\n",
    "Sin embargo, vamos a filtrar los datos por ambas columnas buscando los faltantes para confirmar esta hipotesis."
   ]
  },
  {
   "cell_type": "code",
   "execution_count": 7,
   "metadata": {
    "ExecuteTime": {
     "end_time": "2023-07-18T04:30:58.607944Z",
     "start_time": "2023-07-18T04:30:58.418943800Z"
    }
   },
   "outputs": [
    {
     "data": {
      "text/plain": "children               0\ndays_employed       2174\ndob_years              0\neducation              0\neducation_id           0\nfamily_status          0\nfamily_status_id       0\ngender                 0\nincome_type            0\ndebt                   0\ntotal_income        2174\npurpose                0\ndtype: int64"
     },
     "execution_count": 7,
     "metadata": {},
     "output_type": "execute_result"
    }
   ],
   "source": [
    "# Apliquemos múltiples condiciones para filtrar datos y veamos el número de filas en la tabla filtrada.\n",
    "data_faltante = data[data['days_employed'].isna()]\n",
    "\n",
    "# Veamos si en ambas columnas faltan los mismos datos en las columnas\n",
    "data_faltante[data_faltante['total_income'].isna()].isna().sum()"
   ]
  },
  {
   "cell_type": "markdown",
   "metadata": {},
   "source": [
    "**Conclusión intermedia**\n",
    "\n",
    "Una vez hecho el filtrado, podemos confirmar que ambas columnas tienen datos faltantes en las mismas filas. Esto como comentabamos puede estar relacionado con la idea de que si la persona no tiene dias trabajados, no puede presentar ingresos; sin embargo puede ser que reciba ingresos de otra forma y no necesariamente tenga dias trabajados (por ejemplo: inversiones)\n",
    "\n",
    "Vamos a checar la proporción que representa para las columnas los datos faltantes y además vamos a checar si los tipos de empleo pueden ser la rázon de que haya valores vacios en la columna *days_employed*"
   ]
  },
  {
   "cell_type": "code",
   "execution_count": 8,
   "metadata": {
    "ExecuteTime": {
     "end_time": "2023-07-18T04:30:58.609944900Z",
     "start_time": "2023-07-18T04:30:58.448944700Z"
    }
   },
   "outputs": [
    {
     "data": {
      "text/plain": "children             0.000000\ndays_employed       10.099884\ndob_years            0.000000\neducation            0.000000\neducation_id         0.000000\nfamily_status        0.000000\nfamily_status_id     0.000000\ngender               0.000000\nincome_type          0.000000\ndebt                 0.000000\ntotal_income        10.099884\npurpose              0.000000\ndtype: float64"
     },
     "execution_count": 8,
     "metadata": {},
     "output_type": "execute_result"
    }
   ],
   "source": [
    "# Vamos a checar el porcentaje de valores ausentes en general\n",
    "porcentaje_nulos = lambda x: x * 100 / data.children.size\n",
    "\n",
    "\n",
    "data.isna().sum().apply(porcentaje_nulos)"
   ]
  },
  {
   "cell_type": "code",
   "execution_count": 9,
   "metadata": {
    "ExecuteTime": {
     "end_time": "2023-07-18T04:30:58.610944500Z",
     "start_time": "2023-07-18T04:30:58.495945Z"
    }
   },
   "outputs": [
    {
     "data": {
      "text/plain": "array(['retiree', 'civil servant', 'business', 'employee', 'entrepreneur'],\n      dtype=object)"
     },
     "execution_count": 9,
     "metadata": {},
     "output_type": "execute_result"
    }
   ],
   "source": [
    "# Vamos a investigar a los clientes que no tienen datos sobre la característica identificada y la columna con los valores ausentes\n",
    "data_faltante.income_type.unique()"
   ]
  },
  {
   "cell_type": "code",
   "execution_count": 10,
   "metadata": {
    "ExecuteTime": {
     "end_time": "2023-07-18T04:30:58.611943200Z",
     "start_time": "2023-07-18T04:30:58.511950700Z"
    }
   },
   "outputs": [
    {
     "data": {
      "text/plain": "employee         50.827967\nbusiness         23.367065\nretiree          18.997240\ncivil servant     6.761730\nentrepreneur      0.045998\nName: income_type, dtype: float64"
     },
     "execution_count": 10,
     "metadata": {},
     "output_type": "execute_result"
    }
   ],
   "source": [
    "# Checamos la distribución\n",
    "porcentaje_nulos = lambda x: x * 100 / data_faltante.children.size\n",
    "data_faltante.income_type.value_counts().apply(porcentaje_nulos)"
   ]
  },
  {
   "cell_type": "markdown",
   "metadata": {},
   "source": [
    "Haciendo el analisis de los datos faltantes, pudimos notar que el 50% de los datos faltantes estan empleados, el 23% tiene un negocio, el 19% esta retirado, 6% es funcionario y el resto es emprendedor. \n",
    "\n",
    "Que el 50% de nuestros datos nulos sean empleados nos hace confirmar que nuestra hipotesis era incorrecta y que la razón de estos datos nulos sea alguna otra.\n",
    "\n",
    "**Posibles razones por las que hay valores ausentes en los datos**\n",
    "\n",
    "Tomando en cuenta el análisis que realizamos, podemos pensar que los datos son ausentes al azar; sin embargo que ambas columnas tengan las mismas filas vacias parece mas deliberado que al azar.\n",
    "\n",
    "Despejemos primero la idea de que sean valores aleatorios\n"
   ]
  },
  {
   "cell_type": "code",
   "execution_count": 11,
   "metadata": {
    "ExecuteTime": {
     "end_time": "2023-07-18T04:30:58.613945300Z",
     "start_time": "2023-07-18T04:30:58.540945300Z"
    }
   },
   "outputs": [
    {
     "data": {
      "text/plain": "employee                       51.656214\nbusiness                       23.623693\nretiree                        17.914053\ncivil servant                   6.778165\nunemployed                      0.009292\nentrepreneur                    0.009292\nstudent                         0.004646\npaternity / maternity leave     0.004646\nName: income_type, dtype: float64"
     },
     "execution_count": 11,
     "metadata": {},
     "output_type": "execute_result"
    }
   ],
   "source": [
    "# Comprobando la distribución en el conjunto de datos entero\n",
    "porcentaje_nulos = lambda x: x * 100 / data.children.size\n",
    "data.income_type.value_counts().apply(porcentaje_nulos)"
   ]
  },
  {
   "cell_type": "markdown",
   "metadata": {},
   "source": [
    "**Conclusión intermedia**\n",
    "\n",
    "Checando como esta distribuido la información del dataset completo por tipo de empleo, pudimos notar que las distribuciones son casi similares, esto podria indicar que realmente los datos faltantes son accidentales ya que estan en una misma proporción."
   ]
  },
  {
   "cell_type": "markdown",
   "metadata": {},
   "source": [
    "**Conclusiones**\n",
    "\n",
    "Tomando en cuenta las similitudes que hubo en la distribución del dataset completo y el dataset filtrado, consideramos que los datos faltantes son accidentales, representan el 10% de los datos de sus columnas por lo que consideramos que no afectarian de manera significativa al análisis final de estos datos.\n",
    "\n",
    "Tomando en cuenta que la columna *total_income* es parte del análisis final, consideramos que la mejor opción es eliminar estos datos ya que pueden influir de cierta manera en nuestro análisis y al ser el 10% de ambas columnas, aun tenemos bastante información para proseguir.\n",
    "\n",
    "En el siguiente apartado, nos enfocaremos en eliminar estos datos ausentes, checar duplicados y tratarlos, unificar nombres de categorias y entender porque hay datos negativos en *days_employed*"
   ]
  },
  {
   "cell_type": "markdown",
   "metadata": {},
   "source": [
    "## Transformación de datos\n",
    "\n",
    "Vamos a checar cada columna individualmente para ver si detectamos alguna incosistencia que se haya pasado por alto"
   ]
  },
  {
   "cell_type": "markdown",
   "metadata": {},
   "source": [
    "Comenzemos checando la columna `education` para poder unificar las categorias"
   ]
  },
  {
   "cell_type": "code",
   "execution_count": 12,
   "metadata": {
    "ExecuteTime": {
     "end_time": "2023-07-18T04:30:58.614946100Z",
     "start_time": "2023-07-18T04:30:58.560947400Z"
    }
   },
   "outputs": [
    {
     "data": {
      "text/plain": "array([\"bachelor's degree\", 'secondary education', 'Secondary Education',\n       'SECONDARY EDUCATION', \"BACHELOR'S DEGREE\", 'some college',\n       'primary education', \"Bachelor's Degree\", 'SOME COLLEGE',\n       'Some College', 'PRIMARY EDUCATION', 'Primary Education',\n       'Graduate Degree', 'GRADUATE DEGREE', 'graduate degree'],\n      dtype=object)"
     },
     "execution_count": 12,
     "metadata": {},
     "output_type": "execute_result"
    }
   ],
   "source": [
    "# Veamos todos los valores en la columna de educación para verificar si será necesario corregir la ortografía y qué habrá que corregir exactamente\n",
    "data.education.unique()"
   ]
  },
  {
   "cell_type": "code",
   "execution_count": 13,
   "metadata": {
    "scrolled": true,
    "ExecuteTime": {
     "end_time": "2023-07-18T04:30:59.003941400Z",
     "start_time": "2023-07-18T04:30:58.572946900Z"
    }
   },
   "outputs": [],
   "source": [
    "# Arregla los registros si es necesario\n",
    "data.education = data.education.str.lower()"
   ]
  },
  {
   "cell_type": "code",
   "execution_count": 14,
   "metadata": {
    "ExecuteTime": {
     "end_time": "2023-07-18T04:30:59.083946300Z",
     "start_time": "2023-07-18T04:30:58.606949600Z"
    }
   },
   "outputs": [
    {
     "data": {
      "text/plain": "array([\"bachelor's degree\", 'secondary education', 'some college',\n       'primary education', 'graduate degree'], dtype=object)"
     },
     "execution_count": 14,
     "metadata": {},
     "output_type": "execute_result"
    }
   ],
   "source": [
    "# Comprobar todos los valores en la columna para asegurarnos de que los hayamos corregido\n",
    "data.education.unique()"
   ]
  },
  {
   "cell_type": "markdown",
   "metadata": {},
   "source": [
    "Vamos a pasar a la columna `children` y ver su distribución"
   ]
  },
  {
   "cell_type": "code",
   "execution_count": 15,
   "metadata": {
    "ExecuteTime": {
     "end_time": "2023-07-18T04:30:59.084945500Z",
     "start_time": "2023-07-18T04:30:58.634944700Z"
    }
   },
   "outputs": [
    {
     "data": {
      "text/plain": " 0     14149\n 1      4818\n 2      2055\n 3       330\n 20       76\n-1        47\n 4        41\n 5         9\nName: children, dtype: int64"
     },
     "execution_count": 15,
     "metadata": {},
     "output_type": "execute_result"
    }
   ],
   "source": [
    "# Veamos la distribución de los valores en la columna `children`\n",
    "data.children.value_counts()"
   ]
  },
  {
   "cell_type": "markdown",
   "metadata": {},
   "source": [
    "Al ver la distribución descubrimos que hay valores extraños entre los datos. Segun los datos hay 76 personas con 20 hijos y 47 con -1 hijos. El primer caso puede darse pero tambien puede deberse a un error de tipificación al querer poner 2 se agrego un 0 al final, esto ultimo puedo repetirse con nuestro segundo caso, se quiso poner 1 y se agrego un - al inicio.\n",
    "\n",
    "Vamos a ver el porcentaje que representan estos datos problematicos para con base en ello, tomar una decisión"
   ]
  },
  {
   "cell_type": "code",
   "execution_count": 16,
   "metadata": {
    "ExecuteTime": {
     "end_time": "2023-07-18T04:30:59.098946500Z",
     "start_time": "2023-07-18T04:30:58.648946200Z"
    }
   },
   "outputs": [
    {
     "data": {
      "text/plain": " 0     65.732869\n 1     22.383275\n 2      9.547038\n 3      1.533101\n 20     0.353078\n-1      0.218351\n 4      0.190476\n 5      0.041812\nName: children, dtype: float64"
     },
     "execution_count": 16,
     "metadata": {},
     "output_type": "execute_result"
    }
   ],
   "source": [
    "# Checamos el porcentaje\n",
    "porcentaje_children = lambda x: x * 100 / data.children.size\n",
    "data.children.value_counts().apply(porcentaje_children)"
   ]
  },
  {
   "cell_type": "markdown",
   "metadata": {},
   "source": [
    "Representan el 0.56% de nuestros datos por lo que podriamos eliminarlos y no afectarian de manera significativa a nuestro análisis"
   ]
  },
  {
   "cell_type": "code",
   "execution_count": 17,
   "metadata": {
    "ExecuteTime": {
     "end_time": "2023-07-18T04:30:59.221942900Z",
     "start_time": "2023-07-18T04:30:58.680944Z"
    }
   },
   "outputs": [],
   "source": [
    "# Eliminamos los datos problematicos\n",
    "data.drop(data[data['children'] == 20].index, inplace=True)\n",
    "data.drop(data[data['children'] == -1].index, inplace=True)"
   ]
  },
  {
   "cell_type": "code",
   "execution_count": 18,
   "metadata": {
    "ExecuteTime": {
     "end_time": "2023-07-18T04:30:59.265946400Z",
     "start_time": "2023-07-18T04:30:58.710946Z"
    }
   },
   "outputs": [
    {
     "data": {
      "text/plain": "0    14149\n1     4818\n2     2055\n3      330\n4       41\n5        9\nName: children, dtype: int64"
     },
     "execution_count": 18,
     "metadata": {},
     "output_type": "execute_result"
    }
   ],
   "source": [
    "# Comprobar la columna `children` de nuevo para asegurarnos de que todo está arreglado\n",
    "data.children.value_counts()"
   ]
  },
  {
   "cell_type": "markdown",
   "metadata": {},
   "source": [
    "Pasamos a la columna `days_employed`. Aqui tenemos la situación de los datos nulos pero los trataremos más adelante, aqui nos vamos a enfocar en los datos negativos que se presentan en la columna. Vamos a ver el porcentaje que representan a total columna.\n",
    "\n",
    "Ya que hay bastantes datos unicos, crearemos otra columna que nos diga si es menor o mayor a 0 y poder clasificar mejor los datos"
   ]
  },
  {
   "cell_type": "code",
   "execution_count": 19,
   "metadata": {
    "ExecuteTime": {
     "end_time": "2023-07-18T04:30:59.269947700Z",
     "start_time": "2023-07-18T04:30:58.728944Z"
    }
   },
   "outputs": [
    {
     "data": {
      "text/plain": "Negativos    73.866928\nPositivos    16.031212\nName: days_employed_group, dtype: float64"
     },
     "execution_count": 19,
     "metadata": {},
     "output_type": "execute_result"
    }
   ],
   "source": [
    "# Creamos la columna days_employed_group para poder ver la distribución\n",
    "def days_employed_group(days):\n",
    "    if days < 0:\n",
    "        return 'Negativos'\n",
    "    if days >= 0:\n",
    "        return 'Positivos'\n",
    "        \n",
    "data['days_employed_group'] = data['days_employed'].apply(days_employed_group)\n",
    "\n",
    "# Checamos la distribucion del grupo\n",
    "porcentaje = lambda x: x * 100 / data.children.size\n",
    "data.days_employed_group.value_counts().apply(porcentaje)"
   ]
  },
  {
   "cell_type": "markdown",
   "metadata": {},
   "source": [
    "Al realizar la clasificación pudimos notar que la cantidad de datos problemáticos es abismal, un 73.89% de todos nuestros datos. Debido a esta proporción no podemos eliminar esos datos.\n",
    "\n",
    "Tambien nuestra hipotesis temprana que podrian significar los dias de desempleo queda deshechada ya que las personas desempleadas no representan ni un 1% de los datos.\n",
    "\n",
    "Esta proporción de datos problematicos puede indicar problemas técnicos al pasar los datos y que se colocara un `-` al principio de los datos. Para solucionar este tema, se decidio pasar los datos negativos a positivos y asi poder ocuparlos correctamente"
   ]
  },
  {
   "cell_type": "code",
   "execution_count": 20,
   "metadata": {
    "ExecuteTime": {
     "end_time": "2023-07-18T04:30:59.331945300Z",
     "start_time": "2023-07-18T04:30:58.759946100Z"
    }
   },
   "outputs": [],
   "source": [
    "# Pasamos los datos a positivos\n",
    "cambiar_positivo = lambda x: (x * -1) if x < 0 else x * 1\n",
    "data.days_employed = data.days_employed.apply(cambiar_positivo)"
   ]
  },
  {
   "cell_type": "code",
   "execution_count": 21,
   "metadata": {
    "ExecuteTime": {
     "end_time": "2023-07-18T04:30:59.332948400Z",
     "start_time": "2023-07-18T04:30:58.790942800Z"
    }
   },
   "outputs": [
    {
     "data": {
      "text/plain": "children               0\ndays_employed          0\ndob_years              0\neducation              0\neducation_id           0\nfamily_status          0\nfamily_status_id       0\ngender                 0\nincome_type            0\ndebt                   0\ntotal_income           0\npurpose                0\ndays_employed_group    0\ndtype: int64"
     },
     "execution_count": 21,
     "metadata": {},
     "output_type": "execute_result"
    }
   ],
   "source": [
    "# Comprueba el resultado - asegúrate de que esté arreglado\n",
    "data[data.days_employed < 0].count()"
   ]
  },
  {
   "cell_type": "markdown",
   "metadata": {},
   "source": [
    "Otra comprobación que debemos hacer es que nadie de los candidatos pase en dias de experiencia a su `edad - 16 años` (hay que hacer esta resta ya que la edad minima legal para trabajar es de 16 años)."
   ]
  },
  {
   "cell_type": "code",
   "execution_count": 22,
   "metadata": {
    "ExecuteTime": {
     "end_time": "2023-07-18T04:30:59.335955100Z",
     "start_time": "2023-07-18T04:30:58.826945Z"
    }
   },
   "outputs": [
    {
     "data": {
      "text/plain": "   children  days_employed  dob_years            education  education_id  \\\n0         1    8437.673028         42    bachelor's degree             0   \n1         1    4024.803754         36  secondary education             1   \n2         0    5623.422610         33  secondary education             1   \n3         3    4124.747207         32  secondary education             1   \n4         0  340266.072047         53  secondary education             1   \n\n       family_status  family_status_id gender income_type  debt  total_income  \\\n0            married                 0      F    employee     0     40620.102   \n1            married                 0      F    employee     0     17932.802   \n2            married                 0      M    employee     0     23341.752   \n3            married                 0      M    employee     0     42820.568   \n4  civil partnership                 1      F     retiree     0     25378.572   \n\n                   purpose days_employed_group  years_employed  \n0    purchase of the house           Negativos       23.116912  \n1             car purchase           Negativos       11.026860  \n2    purchase of the house           Negativos       15.406637  \n3  supplementary education           Negativos       11.300677  \n4        to have a wedding           Positivos      932.235814  ",
      "text/html": "<div>\n<style scoped>\n    .dataframe tbody tr th:only-of-type {\n        vertical-align: middle;\n    }\n\n    .dataframe tbody tr th {\n        vertical-align: top;\n    }\n\n    .dataframe thead th {\n        text-align: right;\n    }\n</style>\n<table border=\"1\" class=\"dataframe\">\n  <thead>\n    <tr style=\"text-align: right;\">\n      <th></th>\n      <th>children</th>\n      <th>days_employed</th>\n      <th>dob_years</th>\n      <th>education</th>\n      <th>education_id</th>\n      <th>family_status</th>\n      <th>family_status_id</th>\n      <th>gender</th>\n      <th>income_type</th>\n      <th>debt</th>\n      <th>total_income</th>\n      <th>purpose</th>\n      <th>days_employed_group</th>\n      <th>years_employed</th>\n    </tr>\n  </thead>\n  <tbody>\n    <tr>\n      <th>0</th>\n      <td>1</td>\n      <td>8437.673028</td>\n      <td>42</td>\n      <td>bachelor's degree</td>\n      <td>0</td>\n      <td>married</td>\n      <td>0</td>\n      <td>F</td>\n      <td>employee</td>\n      <td>0</td>\n      <td>40620.102</td>\n      <td>purchase of the house</td>\n      <td>Negativos</td>\n      <td>23.116912</td>\n    </tr>\n    <tr>\n      <th>1</th>\n      <td>1</td>\n      <td>4024.803754</td>\n      <td>36</td>\n      <td>secondary education</td>\n      <td>1</td>\n      <td>married</td>\n      <td>0</td>\n      <td>F</td>\n      <td>employee</td>\n      <td>0</td>\n      <td>17932.802</td>\n      <td>car purchase</td>\n      <td>Negativos</td>\n      <td>11.026860</td>\n    </tr>\n    <tr>\n      <th>2</th>\n      <td>0</td>\n      <td>5623.422610</td>\n      <td>33</td>\n      <td>secondary education</td>\n      <td>1</td>\n      <td>married</td>\n      <td>0</td>\n      <td>M</td>\n      <td>employee</td>\n      <td>0</td>\n      <td>23341.752</td>\n      <td>purchase of the house</td>\n      <td>Negativos</td>\n      <td>15.406637</td>\n    </tr>\n    <tr>\n      <th>3</th>\n      <td>3</td>\n      <td>4124.747207</td>\n      <td>32</td>\n      <td>secondary education</td>\n      <td>1</td>\n      <td>married</td>\n      <td>0</td>\n      <td>M</td>\n      <td>employee</td>\n      <td>0</td>\n      <td>42820.568</td>\n      <td>supplementary education</td>\n      <td>Negativos</td>\n      <td>11.300677</td>\n    </tr>\n    <tr>\n      <th>4</th>\n      <td>0</td>\n      <td>340266.072047</td>\n      <td>53</td>\n      <td>secondary education</td>\n      <td>1</td>\n      <td>civil partnership</td>\n      <td>1</td>\n      <td>F</td>\n      <td>retiree</td>\n      <td>0</td>\n      <td>25378.572</td>\n      <td>to have a wedding</td>\n      <td>Positivos</td>\n      <td>932.235814</td>\n    </tr>\n  </tbody>\n</table>\n</div>"
     },
     "execution_count": 22,
     "metadata": {},
     "output_type": "execute_result"
    }
   ],
   "source": [
    "# Primero creemos una columna pasando los dias de experiencia a años de experiencia\n",
    "get_years_experience = lambda x: x / 365\n",
    "data['years_employed'] = data.days_employed.apply(get_years_experience)\n",
    "data.head()"
   ]
  },
  {
   "cell_type": "code",
   "execution_count": 23,
   "metadata": {
    "ExecuteTime": {
     "end_time": "2023-07-18T04:30:59.399943900Z",
     "start_time": "2023-07-18T04:30:58.888948400Z"
    }
   },
   "outputs": [
    {
     "name": "stdout",
     "output_type": "stream",
     "text": [
      "3593\n",
      "16.79%\n"
     ]
    }
   ],
   "source": [
    "# Veamos cuantos datos no cumplen con nuestra regla\n",
    "print(data[data.years_employed > (data.dob_years - 16)]['days_employed'].count())\n",
    "porcentaje_overlimit_days_employed = data[data.years_employed > (data.dob_years -16)]['days_employed'].count() / data.children.count()\n",
    "print(f'{porcentaje_overlimit_days_employed:.2%}')"
   ]
  },
  {
   "cell_type": "markdown",
   "metadata": {},
   "source": [
    "El 16.79% de los datos son mayores a los años de vida de las personas, lo cual no puede ser posible y nos indica un error en el ingreso de la información. Ya que son datos decimales podria ser que el error se deba a que los puntos se desplazaron más decimas de lo que deberian.\n",
    "\n",
    "Verifiquemos cual es el número máximo de dias de experiencia que son problemáticos y en base a ello tomemos una decisión."
   ]
  },
  {
   "cell_type": "code",
   "execution_count": 24,
   "metadata": {
    "scrolled": false,
    "ExecuteTime": {
     "end_time": "2023-07-18T04:30:59.400944700Z",
     "start_time": "2023-07-18T04:30:58.915944400Z"
    }
   },
   "outputs": [
    {
     "name": "stdout",
     "output_type": "stream",
     "text": [
      "401755.40047533\n"
     ]
    }
   ],
   "source": [
    "print(data[data.years_employed > (data.dob_years - 16)]['days_employed'].max())"
   ]
  },
  {
   "cell_type": "markdown",
   "metadata": {},
   "source": [
    "Viendo el número máximo, se decide que se recorrera el punto decimal 2 cifras a la izquierda"
   ]
  },
  {
   "cell_type": "code",
   "execution_count": 25,
   "metadata": {
    "ExecuteTime": {
     "end_time": "2023-07-18T04:30:59.401946200Z",
     "start_time": "2023-07-18T04:30:58.932945700Z"
    }
   },
   "outputs": [],
   "source": [
    "# Aplicamos la operación\n",
    "data.days_employed = data[data.years_employed > (data.dob_years - 16)]['days_employed'] / 100\n",
    "data['years_employed'] = data.days_employed.apply(get_years_experience)"
   ]
  },
  {
   "cell_type": "code",
   "execution_count": 26,
   "metadata": {
    "ExecuteTime": {
     "end_time": "2023-07-18T04:30:59.402945300Z",
     "start_time": "2023-07-18T04:30:58.963945800Z"
    }
   },
   "outputs": [
    {
     "name": "stdout",
     "output_type": "stream",
     "text": [
      "92\n",
      "0.43%\n"
     ]
    }
   ],
   "source": [
    "# Verificamos los ajustes\n",
    "print(data[data.years_employed > (data.dob_years - 16)]['days_employed'].count())\n",
    "porcentaje_overlimit_days_employed = data[data.years_employed > (data.dob_years -16)]['days_employed'].count() / data.children.count()\n",
    "print(f'{porcentaje_overlimit_days_employed:.2%}')"
   ]
  },
  {
   "cell_type": "markdown",
   "metadata": {},
   "source": [
    "Una vez hecho el ajuste, aun tenemos 92 datos problematicos, sin embargo al representar el 0.43% de nuestra data, podemos eliminarlos sin ningun problema."
   ]
  },
  {
   "cell_type": "code",
   "execution_count": 27,
   "metadata": {
    "ExecuteTime": {
     "end_time": "2023-07-18T04:30:59.403947200Z",
     "start_time": "2023-07-18T04:30:58.979945600Z"
    }
   },
   "outputs": [
    {
     "name": "stdout",
     "output_type": "stream",
     "text": [
      "0\n",
      "0.00%\n"
     ]
    }
   ],
   "source": [
    "# Se eliminan datos problematicos restantes\n",
    "data.drop(data[data.years_employed > (data.dob_years - 16)].index, inplace=True)\n",
    "# Verificamos la operación\n",
    "print(data[data.years_employed > (data.dob_years - 16)]['days_employed'].count())\n",
    "porcentaje_overlimit_days_employed = data[data.years_employed > (data.dob_years -16)]['days_employed'].count() / data.children.count()\n",
    "print(f'{porcentaje_overlimit_days_employed:.2%}')"
   ]
  },
  {
   "cell_type": "markdown",
   "metadata": {},
   "source": [
    "Pasemos a la columna `dob_years`. Veamos su distribución a ver si detectamos algun dato problematico"
   ]
  },
  {
   "cell_type": "code",
   "execution_count": 28,
   "metadata": {
    "scrolled": true,
    "ExecuteTime": {
     "end_time": "2023-07-18T04:30:59.890945600Z",
     "start_time": "2023-07-18T04:30:59.012946400Z"
    }
   },
   "outputs": [
    {
     "data": {
      "text/plain": "35    2.881276\n41    2.829657\n40    2.829657\n34    2.801502\n38    2.792116\n42    2.778038\n33    2.707649\n39    2.684186\n31    2.609104\n36    2.595026\n44    2.548099\n29    2.548099\n30    2.515251\n48    2.515251\n37    2.491788\n43    2.393243\n50    2.388550\n32    2.374472\n49    2.369779\n28    2.351009\n45    2.318160\n27    2.299390\n52    2.266542\n56    2.261849\n47    2.252464\n54    2.233693\n46    2.200845\n58    2.163304\n57    2.144533\n53    2.144533\n51    2.092914\n59    2.069451\n55    2.069451\n26    1.900516\n60    1.764430\n25    1.670577\n61    1.656499\n62    1.647114\n63    1.257626\n64    1.234162\n24    1.234162\n23    1.182543\n65    0.910371\n66    0.858752\n22    0.854059\n67    0.783670\n21    0.516190\n68    0.464571\n69    0.389489\n70    0.305021\n71    0.272173\n20    0.239324\n72    0.154857\n19    0.065697\n0     0.046926\n73    0.037541\n74    0.028156\n75    0.004693\nName: dob_years, dtype: float64"
     },
     "execution_count": 28,
     "metadata": {},
     "output_type": "execute_result"
    }
   ],
   "source": [
    "# Revisa `dob_years` en busca de valores sospechosos y cuenta el porcentaje\n",
    "data.dob_years.value_counts().apply(porcentaje)"
   ]
  },
  {
   "cell_type": "markdown",
   "metadata": {},
   "source": [
    "Al checar la distribución de `dob_years` pudimos notar que hay datos que fueron llenados con 0, ninguna persona con 0 años podria estar en los datos, seguramente algun error de dedo al colocar los datos. Ya que representan el 0.46% de los datos, vamos a eliminarlos"
   ]
  },
  {
   "cell_type": "code",
   "execution_count": 29,
   "metadata": {
    "ExecuteTime": {
     "end_time": "2023-07-18T04:30:59.890945600Z",
     "start_time": "2023-07-18T04:30:59.044952200Z"
    }
   },
   "outputs": [],
   "source": [
    "# Resuelve los problemas en la columna `dob_years`, si existen\n",
    "data.drop(data[data['dob_years'] == 0].index, inplace=True)"
   ]
  },
  {
   "cell_type": "code",
   "execution_count": 30,
   "metadata": {
    "ExecuteTime": {
     "end_time": "2023-07-18T04:30:59.891946100Z",
     "start_time": "2023-07-18T04:30:59.071946200Z"
    }
   },
   "outputs": [
    {
     "data": {
      "text/plain": "children               0\ndays_employed          0\ndob_years              0\neducation              0\neducation_id           0\nfamily_status          0\nfamily_status_id       0\ngender                 0\nincome_type            0\ndebt                   0\ntotal_income           0\npurpose                0\ndays_employed_group    0\nyears_employed         0\ndtype: int64"
     },
     "execution_count": 30,
     "metadata": {},
     "output_type": "execute_result"
    }
   ],
   "source": [
    "# Comprueba el resultado - asegúrate de que esté arreglado\n",
    "data[data.dob_years == 0].count()"
   ]
  },
  {
   "cell_type": "markdown",
   "metadata": {},
   "source": [
    "Pasamos a la columna `family_status`. Verificamos que no resalte ningun dato problematico"
   ]
  },
  {
   "cell_type": "code",
   "execution_count": 31,
   "metadata": {
    "ExecuteTime": {
     "end_time": "2023-07-18T04:30:59.892946700Z",
     "start_time": "2023-07-18T04:30:59.100949900Z"
    }
   },
   "outputs": [
    {
     "data": {
      "text/plain": "married              57.525822\ncivil partnership    19.431925\nunmarried            13.061033\ndivorced              5.535211\nwidow / widower       4.446009\nName: family_status, dtype: float64"
     },
     "execution_count": 31,
     "metadata": {},
     "output_type": "execute_result"
    }
   ],
   "source": [
    "# Veamos los valores de la columna\n",
    "data.family_status.value_counts().apply(porcentaje)"
   ]
  },
  {
   "cell_type": "markdown",
   "metadata": {},
   "source": [
    "No encontramos ningun dato problematico en la columna `family_status`por lo que pasaremos a la siguiente columna"
   ]
  },
  {
   "cell_type": "markdown",
   "metadata": {},
   "source": [
    "Pasamos a la columna `gender`. Verificamos que no resalte ningun dato problematico"
   ]
  },
  {
   "cell_type": "code",
   "execution_count": 32,
   "metadata": {
    "ExecuteTime": {
     "end_time": "2023-07-18T04:30:59.893945900Z",
     "start_time": "2023-07-18T04:30:59.105948300Z"
    }
   },
   "outputs": [
    {
     "data": {
      "text/plain": "F      66.107981\nM      33.887324\nXNA     0.004695\nName: gender, dtype: float64"
     },
     "execution_count": 32,
     "metadata": {},
     "output_type": "execute_result"
    }
   ],
   "source": [
    "# Veamos los valores en la columna\n",
    "data.gender.value_counts().apply(porcentaje)"
   ]
  },
  {
   "cell_type": "markdown",
   "metadata": {},
   "source": [
    "Al checar la distribución de la columna, notamos que hay valores sin indentificar. Al ser una proporción infima de los datos se decidio borrarlos para que no se genere ningun tipo de analisis en los datos."
   ]
  },
  {
   "cell_type": "code",
   "execution_count": 33,
   "metadata": {
    "ExecuteTime": {
     "end_time": "2023-07-18T04:30:59.972943100Z",
     "start_time": "2023-07-18T04:30:59.120947600Z"
    }
   },
   "outputs": [],
   "source": [
    "# Aborda los valores problemáticos, si existen\n",
    "data.drop(data[data['gender'] == 'XNA'].index, inplace=True)"
   ]
  },
  {
   "cell_type": "code",
   "execution_count": 34,
   "metadata": {
    "ExecuteTime": {
     "end_time": "2023-07-18T04:30:59.973943700Z",
     "start_time": "2023-07-18T04:30:59.152946500Z"
    }
   },
   "outputs": [
    {
     "data": {
      "text/plain": "F    66.111085\nM    33.888915\nName: gender, dtype: float64"
     },
     "execution_count": 34,
     "metadata": {},
     "output_type": "execute_result"
    }
   ],
   "source": [
    "# Comprueba el resultado - asegúrate de que esté arreglado\n",
    "data.gender.value_counts().apply(porcentaje)"
   ]
  },
  {
   "cell_type": "markdown",
   "metadata": {},
   "source": [
    "Pasamos a la columna `income_type`. Verificamos que no resalte ningun dato problematico"
   ]
  },
  {
   "cell_type": "code",
   "execution_count": 35,
   "metadata": {
    "ExecuteTime": {
     "end_time": "2023-07-18T04:31:00.030944400Z",
     "start_time": "2023-07-18T04:30:59.183947400Z"
    }
   },
   "outputs": [
    {
     "data": {
      "text/plain": "employee                       51.626837\nbusiness                       23.630217\nretiree                        17.921029\ncivil servant                   6.793746\nunemployed                      0.009390\nentrepreneur                    0.009390\nstudent                         0.004695\npaternity / maternity leave     0.004695\nName: income_type, dtype: float64"
     },
     "execution_count": 35,
     "metadata": {},
     "output_type": "execute_result"
    }
   ],
   "source": [
    "# Veamos los valores en la columna\n",
    "data.income_type.value_counts().apply(porcentaje)"
   ]
  },
  {
   "cell_type": "markdown",
   "metadata": {},
   "source": [
    "No encontramos ningun dato problematico en la columna `income_type`."
   ]
  },
  {
   "cell_type": "markdown",
   "metadata": {},
   "source": [
    "Finalmente, veremos si hay duplicados en nuestros datos."
   ]
  },
  {
   "cell_type": "code",
   "execution_count": 36,
   "metadata": {
    "ExecuteTime": {
     "end_time": "2023-07-18T04:31:00.033941800Z",
     "start_time": "2023-07-18T04:30:59.222946400Z"
    }
   },
   "outputs": [
    {
     "data": {
      "text/plain": "71"
     },
     "execution_count": 36,
     "metadata": {},
     "output_type": "execute_result"
    }
   ],
   "source": [
    "# Comprobar los duplicados\n",
    "data.duplicated().sum()"
   ]
  },
  {
   "cell_type": "markdown",
   "metadata": {},
   "source": [
    "Se encontraron 71 datos duplicados, por lo que pasaremos a eliminarlos del dataset y asi no tener información repetida."
   ]
  },
  {
   "cell_type": "code",
   "execution_count": 37,
   "metadata": {
    "ExecuteTime": {
     "end_time": "2023-07-18T04:31:00.085942500Z",
     "start_time": "2023-07-18T04:30:59.259945200Z"
    }
   },
   "outputs": [],
   "source": [
    "# Aborda los duplicados, si existen\n",
    "data = data.drop_duplicates().reset_index(drop=True)"
   ]
  },
  {
   "cell_type": "code",
   "execution_count": 38,
   "metadata": {
    "ExecuteTime": {
     "end_time": "2023-07-18T04:31:00.131942Z",
     "start_time": "2023-07-18T04:30:59.306947200Z"
    }
   },
   "outputs": [
    {
     "data": {
      "text/plain": "0"
     },
     "execution_count": 38,
     "metadata": {},
     "output_type": "execute_result"
    }
   ],
   "source": [
    "# Última comprobación para ver si tenemos duplicados\n",
    "data.duplicated().sum()"
   ]
  },
  {
   "cell_type": "code",
   "execution_count": 39,
   "metadata": {
    "ExecuteTime": {
     "end_time": "2023-07-18T04:31:00.132941100Z",
     "start_time": "2023-07-18T04:30:59.354944400Z"
    }
   },
   "outputs": [
    {
     "data": {
      "text/plain": "(21228, 14)"
     },
     "execution_count": 39,
     "metadata": {},
     "output_type": "execute_result"
    }
   ],
   "source": [
    "# Comprueba el tamaño del conjunto de datos que tienes ahora, después de haber ejecutado estas primeras manipulaciones\n",
    "data.shape"
   ]
  },
  {
   "cell_type": "markdown",
   "metadata": {},
   "source": [
    "Al haber realizado todas las comprobaciones y transformaciones, tenemos un dataset con 21,228 rows y 14 columnas.\n",
    "Recapitulando, se tenian 21,525 rows y 12 columnas en un inicio y se hicieron los siguientes cambios:\n",
    "1. Se cambio a minisculas los datos de la columna `education` logrando asi unificar las categorias de la columna\n",
    "2. Se eliminaron datos problematicos de la columna `children`\n",
    "3. Para la columna `days_employed`, se crearon 2 columnas; la primera para clasificar el tiempo trabajado entre positivo y negativo y la segunda para pasar los dias de experiencia a años, una vez teniendo esta diferenciación se cambio a positivo los datos negativos y se ajustaron los datos que sobrepasaban la edad de la persona\n",
    "4. Se elimaron datos problematicos de la columna `dob_years`\n",
    "5. Se elimaron datos problematicos de la columna `gender`\n",
    "6. Se elimaron datos duplicados de dataset"
   ]
  },
  {
   "cell_type": "markdown",
   "metadata": {},
   "source": [
    "# Trabajar con valores ausentes"
   ]
  },
  {
   "cell_type": "markdown",
   "metadata": {},
   "source": [
    "Finalmente, trataremos los datos ausentes presentes en las columnas `days_employed` y `total_income`.\n",
    "\n",
    "Se habia comentado de eliminar los datos faltantes pero reflexionando sobre la cantidad en porcentaje de datos faltantes (10% en cada columna) y la naturaleza aleatoria de estos se decidio mejor restaurar estos datos con la media o mediana (se tiene que hacer un analisis para ver la mejor opcion).\n",
    "\n",
    "Para ver cual es la mejor opción vamos a crear diccionarios para nuestras dos columnas con los calculos que necesitamos."
   ]
  },
  {
   "cell_type": "code",
   "execution_count": 40,
   "metadata": {
    "ExecuteTime": {
     "end_time": "2023-07-18T04:31:00.133944500Z",
     "start_time": "2023-07-18T04:30:59.369951800Z"
    }
   },
   "outputs": [],
   "source": [
    "# Encuentra los diccionarios\n",
    "dicc_days_employed = {'days_employed': ['mean', 'median']}\n",
    "dicc_total_income = {'total_income': ['mean', 'median']}"
   ]
  },
  {
   "cell_type": "markdown",
   "metadata": {},
   "source": [
    "### Restaurar valores ausentes en `total_income`"
   ]
  },
  {
   "cell_type": "markdown",
   "metadata": {},
   "source": [
    "Empecemos con `total_income`. Podemos crear una columna de categoria de edad y de categoria de experiencia con el fin de tener un analisis más acotado para `total_income`"
   ]
  },
  {
   "cell_type": "code",
   "execution_count": 41,
   "metadata": {
    "ExecuteTime": {
     "end_time": "2023-07-18T04:31:00.134946400Z",
     "start_time": "2023-07-18T04:30:59.393946800Z"
    }
   },
   "outputs": [],
   "source": [
    "# Vamos a escribir una función que calcule la categoría de edad\n",
    "def age_group(year):\n",
    "    if year < 30:\n",
    "        return 'Menor a 30'\n",
    "    if year <= 60:\n",
    "        return '30-60'\n",
    "    if year > 60:\n",
    "        return '60+'"
   ]
  },
  {
   "cell_type": "code",
   "execution_count": 42,
   "metadata": {
    "ExecuteTime": {
     "end_time": "2023-07-18T04:31:00.135946100Z",
     "start_time": "2023-07-18T04:30:59.415945200Z"
    }
   },
   "outputs": [
    {
     "name": "stdout",
     "output_type": "stream",
     "text": [
      "Menor a 30\n",
      "30-60\n",
      "Menor a 30\n",
      "60+\n"
     ]
    }
   ],
   "source": [
    "# Prueba si la función funciona bien\n",
    "print(age_group(18))\n",
    "print(age_group(32))\n",
    "print(age_group(20))\n",
    "print(age_group(61))"
   ]
  },
  {
   "cell_type": "code",
   "execution_count": 43,
   "metadata": {
    "ExecuteTime": {
     "end_time": "2023-07-18T04:31:00.165945500Z",
     "start_time": "2023-07-18T04:30:59.430947300Z"
    }
   },
   "outputs": [],
   "source": [
    "# Crear una nueva columna basada en la función\n",
    "data['dob_years_group'] = data['dob_years'].apply(age_group)"
   ]
  },
  {
   "cell_type": "code",
   "execution_count": 44,
   "metadata": {
    "ExecuteTime": {
     "end_time": "2023-07-18T04:31:00.192943600Z",
     "start_time": "2023-07-18T04:30:59.446945200Z"
    }
   },
   "outputs": [
    {
     "data": {
      "text/plain": "30-60         15947\nMenor a 30     3163\n60+            2118\nName: dob_years_group, dtype: int64"
     },
     "execution_count": 44,
     "metadata": {},
     "output_type": "execute_result"
    }
   ],
   "source": [
    "# Comprobar cómo son los valores en la nueva columna\n",
    "data['dob_years_group'].value_counts()"
   ]
  },
  {
   "cell_type": "markdown",
   "metadata": {},
   "source": [
    "Generalmente los ingresos suelen depender del nivel de educación, de la experiencia de la persona y la edad de esta. Sin embargo, como tenemos valores nulos en la columna `days_employed` no podemos ocuparla. Vamos a ocupar entonces las columnas `education` y `dob_years_group`.\n",
    "\n",
    "Antes tenemos que verificar si hay datos atipicos ya que estos pueden afectar nuestro analisis final; veamos la distribucion de estos para ver si tenemos algun dato atipico que pueda afectar."
   ]
  },
  {
   "cell_type": "markdown",
   "metadata": {},
   "source": [
    "Primero generemos datos sin estas ausencias para poder ver la distribución correctamente"
   ]
  },
  {
   "cell_type": "code",
   "execution_count": 45,
   "metadata": {
    "ExecuteTime": {
     "end_time": "2023-07-18T04:31:00.193944800Z",
     "start_time": "2023-07-18T04:30:59.467948400Z"
    }
   },
   "outputs": [],
   "source": [
    "# Crea una tabla sin valores ausentes y muestra algunas de sus filas para asegurarte de que se ve bien\n",
    "data_sin_ausentes = data.drop(data[data['total_income'].isna()].index)\n",
    "data_sin_ausentes = data_sin_ausentes.drop(data_sin_ausentes[data_sin_ausentes['days_employed'].isna()].index)"
   ]
  },
  {
   "cell_type": "code",
   "execution_count": 46,
   "metadata": {
    "ExecuteTime": {
     "end_time": "2023-07-18T04:31:00.193944800Z",
     "start_time": "2023-07-18T04:30:59.506943500Z"
    }
   },
   "outputs": [
    {
     "data": {
      "text/plain": "                                     total_income            \n                                             mean      median\neducation           dob_years_group                          \nbachelor's degree   30-60            27360.289853  24029.9985\n                    60+              27585.154652  22918.9550\n                    Menor a 30       25824.070000  25824.0700\ngraduate degree     60+              28334.215000  28334.2150\nprimary education   30-60            18202.613951  17944.1910\n                    60+              17528.709038  15695.2610\n                    Menor a 30       27742.701000  27742.7010\nsecondary education 30-60            21831.654031  18959.6260\n                    60+              20330.848122  17878.8920\n                    Menor a 30       19773.760000  17931.5490\nsome college        30-60            18218.044263  17872.2450\n                    60+              26775.310312  23289.1975\n                    Menor a 30       31926.400000  31926.4000",
      "text/html": "<div>\n<style scoped>\n    .dataframe tbody tr th:only-of-type {\n        vertical-align: middle;\n    }\n\n    .dataframe tbody tr th {\n        vertical-align: top;\n    }\n\n    .dataframe thead tr th {\n        text-align: left;\n    }\n\n    .dataframe thead tr:last-of-type th {\n        text-align: right;\n    }\n</style>\n<table border=\"1\" class=\"dataframe\">\n  <thead>\n    <tr>\n      <th></th>\n      <th></th>\n      <th colspan=\"2\" halign=\"left\">total_income</th>\n    </tr>\n    <tr>\n      <th></th>\n      <th></th>\n      <th>mean</th>\n      <th>median</th>\n    </tr>\n    <tr>\n      <th>education</th>\n      <th>dob_years_group</th>\n      <th></th>\n      <th></th>\n    </tr>\n  </thead>\n  <tbody>\n    <tr>\n      <th rowspan=\"3\" valign=\"top\">bachelor's degree</th>\n      <th>30-60</th>\n      <td>27360.289853</td>\n      <td>24029.9985</td>\n    </tr>\n    <tr>\n      <th>60+</th>\n      <td>27585.154652</td>\n      <td>22918.9550</td>\n    </tr>\n    <tr>\n      <th>Menor a 30</th>\n      <td>25824.070000</td>\n      <td>25824.0700</td>\n    </tr>\n    <tr>\n      <th>graduate degree</th>\n      <th>60+</th>\n      <td>28334.215000</td>\n      <td>28334.2150</td>\n    </tr>\n    <tr>\n      <th rowspan=\"3\" valign=\"top\">primary education</th>\n      <th>30-60</th>\n      <td>18202.613951</td>\n      <td>17944.1910</td>\n    </tr>\n    <tr>\n      <th>60+</th>\n      <td>17528.709038</td>\n      <td>15695.2610</td>\n    </tr>\n    <tr>\n      <th>Menor a 30</th>\n      <td>27742.701000</td>\n      <td>27742.7010</td>\n    </tr>\n    <tr>\n      <th rowspan=\"3\" valign=\"top\">secondary education</th>\n      <th>30-60</th>\n      <td>21831.654031</td>\n      <td>18959.6260</td>\n    </tr>\n    <tr>\n      <th>60+</th>\n      <td>20330.848122</td>\n      <td>17878.8920</td>\n    </tr>\n    <tr>\n      <th>Menor a 30</th>\n      <td>19773.760000</td>\n      <td>17931.5490</td>\n    </tr>\n    <tr>\n      <th rowspan=\"3\" valign=\"top\">some college</th>\n      <th>30-60</th>\n      <td>18218.044263</td>\n      <td>17872.2450</td>\n    </tr>\n    <tr>\n      <th>60+</th>\n      <td>26775.310312</td>\n      <td>23289.1975</td>\n    </tr>\n    <tr>\n      <th>Menor a 30</th>\n      <td>31926.400000</td>\n      <td>31926.4000</td>\n    </tr>\n  </tbody>\n</table>\n</div>"
     },
     "execution_count": 46,
     "metadata": {},
     "output_type": "execute_result"
    }
   ],
   "source": [
    "# Examina los valores medios de los ingresos en función de los factores que identificaste\n",
    "data_grouped = data_sin_ausentes.groupby(['education', 'dob_years_group']).agg(dicc_total_income)\n",
    "data_grouped"
   ]
  },
  {
   "cell_type": "markdown",
   "metadata": {},
   "source": [
    "Viendo los resultados de la tabla, vemos claramente como los valores varian relativamente mucho entre la media y la mediana. Esto nos hace sentido ya que en ingresos no hay topes como tal y una persona puede ganar muchisimo más que otra aunque tengan las misma educación y edad.\n",
    "\n",
    "Tomando en cuenta estos descubrimientos, se decidio tomar la mediana para rellenar los valores faltantes en la columna `total_income`."
   ]
  },
  {
   "cell_type": "code",
   "execution_count": 47,
   "metadata": {
    "ExecuteTime": {
     "end_time": "2023-07-18T04:31:00.194946200Z",
     "start_time": "2023-07-18T04:30:59.540947500Z"
    }
   },
   "outputs": [],
   "source": [
    "#  Escribe una función que usaremos para completar los valores ausentes\n",
    "def llenado_income(row):\n",
    "    total_income = row['total_income']\n",
    "    education = row['education']\n",
    "    dob_years_group = row['dob_years_group']\n",
    "    if np.isnan(total_income):\n",
    "        mediana = data_grouped.xs(education).xs(dob_years_group)['total_income']['median']\n",
    "        return mediana\n",
    "    else:\n",
    "        return total_income"
   ]
  },
  {
   "cell_type": "code",
   "execution_count": 48,
   "metadata": {
    "ExecuteTime": {
     "end_time": "2023-07-18T04:31:00.194946200Z",
     "start_time": "2023-07-18T04:30:59.556943700Z"
    }
   },
   "outputs": [
    {
     "data": {
      "text/plain": "             education dob_years_group  total_income\n0    bachelor's degree           30-60           NaN\n1      graduate degree             60+           NaN\n2    primary education      Menor a 30           NaN\n3  secondary education      Menor a 30        3198.0\n4         some college           30-60           NaN",
      "text/html": "<div>\n<style scoped>\n    .dataframe tbody tr th:only-of-type {\n        vertical-align: middle;\n    }\n\n    .dataframe tbody tr th {\n        vertical-align: top;\n    }\n\n    .dataframe thead th {\n        text-align: right;\n    }\n</style>\n<table border=\"1\" class=\"dataframe\">\n  <thead>\n    <tr style=\"text-align: right;\">\n      <th></th>\n      <th>education</th>\n      <th>dob_years_group</th>\n      <th>total_income</th>\n    </tr>\n  </thead>\n  <tbody>\n    <tr>\n      <th>0</th>\n      <td>bachelor's degree</td>\n      <td>30-60</td>\n      <td>NaN</td>\n    </tr>\n    <tr>\n      <th>1</th>\n      <td>graduate degree</td>\n      <td>60+</td>\n      <td>NaN</td>\n    </tr>\n    <tr>\n      <th>2</th>\n      <td>primary education</td>\n      <td>Menor a 30</td>\n      <td>NaN</td>\n    </tr>\n    <tr>\n      <th>3</th>\n      <td>secondary education</td>\n      <td>Menor a 30</td>\n      <td>3198.0</td>\n    </tr>\n    <tr>\n      <th>4</th>\n      <td>some college</td>\n      <td>30-60</td>\n      <td>NaN</td>\n    </tr>\n  </tbody>\n</table>\n</div>"
     },
     "execution_count": 48,
     "metadata": {},
     "output_type": "execute_result"
    }
   ],
   "source": [
    "# Compruebamos si funciona\n",
    "## Creamos una dataset de pruebas\n",
    "data_prueba = {'education':[\"bachelor's degree\", 'graduate degree', 'primary education', 'secondary education', 'some college'], \n",
    "               'dob_years_group':['30-60', '60+', 'Menor a 30', 'Menor a 30', '30-60'], \n",
    "               'total_income':[float(\"nan\"), float(\"nan\"), float(\"nan\"), 3198, float(\"nan\")]}\n",
    "df_prueba = pd.DataFrame(data_prueba)\n",
    "df_prueba"
   ]
  },
  {
   "cell_type": "code",
   "execution_count": 49,
   "metadata": {
    "ExecuteTime": {
     "end_time": "2023-07-18T04:31:00.195944900Z",
     "start_time": "2023-07-18T04:30:59.586944900Z"
    }
   },
   "outputs": [
    {
     "data": {
      "text/plain": "             education dob_years_group  total_income\n0    bachelor's degree           30-60    24029.9985\n1      graduate degree             60+    28334.2150\n2    primary education      Menor a 30    27742.7010\n3  secondary education      Menor a 30     3198.0000\n4         some college           30-60    17872.2450",
      "text/html": "<div>\n<style scoped>\n    .dataframe tbody tr th:only-of-type {\n        vertical-align: middle;\n    }\n\n    .dataframe tbody tr th {\n        vertical-align: top;\n    }\n\n    .dataframe thead th {\n        text-align: right;\n    }\n</style>\n<table border=\"1\" class=\"dataframe\">\n  <thead>\n    <tr style=\"text-align: right;\">\n      <th></th>\n      <th>education</th>\n      <th>dob_years_group</th>\n      <th>total_income</th>\n    </tr>\n  </thead>\n  <tbody>\n    <tr>\n      <th>0</th>\n      <td>bachelor's degree</td>\n      <td>30-60</td>\n      <td>24029.9985</td>\n    </tr>\n    <tr>\n      <th>1</th>\n      <td>graduate degree</td>\n      <td>60+</td>\n      <td>28334.2150</td>\n    </tr>\n    <tr>\n      <th>2</th>\n      <td>primary education</td>\n      <td>Menor a 30</td>\n      <td>27742.7010</td>\n    </tr>\n    <tr>\n      <th>3</th>\n      <td>secondary education</td>\n      <td>Menor a 30</td>\n      <td>3198.0000</td>\n    </tr>\n    <tr>\n      <th>4</th>\n      <td>some college</td>\n      <td>30-60</td>\n      <td>17872.2450</td>\n    </tr>\n  </tbody>\n</table>\n</div>"
     },
     "execution_count": 49,
     "metadata": {},
     "output_type": "execute_result"
    }
   ],
   "source": [
    "## Aplicamos la función al dataset de prueba y verificamos\n",
    "df_prueba['total_income'] = df_prueba.apply(llenado_income, axis=1)\n",
    "df_prueba"
   ]
  },
  {
   "cell_type": "code",
   "execution_count": 50,
   "metadata": {
    "ExecuteTime": {
     "end_time": "2023-07-18T04:31:01.805941300Z",
     "start_time": "2023-07-18T04:30:59.618944900Z"
    }
   },
   "outputs": [],
   "source": [
    "# Aplícalo a cada fila\n",
    "data['total_income'] = data.apply(llenado_income, axis=1)"
   ]
  },
  {
   "cell_type": "code",
   "execution_count": 51,
   "metadata": {
    "ExecuteTime": {
     "end_time": "2023-07-18T04:31:01.885944300Z",
     "start_time": "2023-07-18T04:31:01.809946100Z"
    }
   },
   "outputs": [
    {
     "data": {
      "text/plain": "children                   0\ndays_employed          17727\ndob_years                  0\neducation                  0\neducation_id               0\nfamily_status              0\nfamily_status_id           0\ngender                     0\nincome_type                0\ndebt                       0\ntotal_income               0\npurpose                    0\ndays_employed_group     2081\nyears_employed         17727\ndob_years_group            0\ndtype: int64"
     },
     "execution_count": 51,
     "metadata": {},
     "output_type": "execute_result"
    }
   ],
   "source": [
    "# Comprueba si tenemos algún error\n",
    "data.isna().sum()"
   ]
  },
  {
   "cell_type": "markdown",
   "metadata": {},
   "source": [
    "Como podemos checar, hemos restaurado exitosamente los valores de la columna `total_income` y ya no tenemos datos nulos en ella.\n",
    "Prosigamos con `days_employed`"
   ]
  },
  {
   "cell_type": "markdown",
   "metadata": {},
   "source": [
    "###  Restaurar valores en `days_employed`"
   ]
  },
  {
   "cell_type": "markdown",
   "metadata": {},
   "source": [
    "Como en la columna anterior que restauramos, vamos a checar que columnas podrian darnos los datos para rellenar `days_employed`.\n",
    "\n",
    "Consideramos que la edad de la persona es un buen parametro para ver la distribución de los años trabajados. Esto debido a que a más edad, mayor tiempo de trabajo (en la mayorias de los casos)."
   ]
  },
  {
   "cell_type": "code",
   "execution_count": 52,
   "metadata": {
    "pycharm": {
     "name": "#%%\n"
    },
    "ExecuteTime": {
     "end_time": "2023-07-18T04:31:01.886966200Z",
     "start_time": "2023-07-18T04:31:01.856948700Z"
    }
   },
   "outputs": [
    {
     "data": {
      "text/plain": "                days_employed             \n                         mean       median\ndob_years_group                           \n30-60             3521.233664  3629.802932\n60+               3649.364922  3658.431689\nMenor a 30         720.380520    38.967051",
      "text/html": "<div>\n<style scoped>\n    .dataframe tbody tr th:only-of-type {\n        vertical-align: middle;\n    }\n\n    .dataframe tbody tr th {\n        vertical-align: top;\n    }\n\n    .dataframe thead tr th {\n        text-align: left;\n    }\n\n    .dataframe thead tr:last-of-type th {\n        text-align: right;\n    }\n</style>\n<table border=\"1\" class=\"dataframe\">\n  <thead>\n    <tr>\n      <th></th>\n      <th colspan=\"2\" halign=\"left\">days_employed</th>\n    </tr>\n    <tr>\n      <th></th>\n      <th>mean</th>\n      <th>median</th>\n    </tr>\n    <tr>\n      <th>dob_years_group</th>\n      <th></th>\n      <th></th>\n    </tr>\n  </thead>\n  <tbody>\n    <tr>\n      <th>30-60</th>\n      <td>3521.233664</td>\n      <td>3629.802932</td>\n    </tr>\n    <tr>\n      <th>60+</th>\n      <td>3649.364922</td>\n      <td>3658.431689</td>\n    </tr>\n    <tr>\n      <th>Menor a 30</th>\n      <td>720.380520</td>\n      <td>38.967051</td>\n    </tr>\n  </tbody>\n</table>\n</div>"
     },
     "execution_count": 52,
     "metadata": {},
     "output_type": "execute_result"
    }
   ],
   "source": [
    "# Distribución de las medias y medianas de `days_employed` en función de los parámetros identificados\n",
    "data_grouped = data_sin_ausentes.groupby(['dob_years_group']).agg(dicc_days_employed)\n",
    "data_grouped"
   ]
  },
  {
   "cell_type": "markdown",
   "metadata": {},
   "source": [
    "Viendo los resultados de la tabla, podemos notar que tenemos diferencias significativas entre la media y la mediana (principalmente en la categoria de menor a 30 años), tomando en cuenta el contexto se considera que en este caso la media nos puede dar valores más reales."
   ]
  },
  {
   "cell_type": "code",
   "execution_count": 53,
   "metadata": {
    "ExecuteTime": {
     "end_time": "2023-07-18T04:31:01.917942700Z",
     "start_time": "2023-07-18T04:31:01.890945900Z"
    }
   },
   "outputs": [],
   "source": [
    "#  Escribe una función que usaremos para completar los valores ausentes\n",
    "def llenado_employed(row):\n",
    "    days_employed = row['days_employed']\n",
    "    dob_years_group = row['dob_years_group']\n",
    "    if np.isnan(days_employed):\n",
    "        media = data_grouped.xs(dob_years_group)['days_employed']['mean']\n",
    "        return media\n",
    "    else:\n",
    "        return days_employed"
   ]
  },
  {
   "cell_type": "code",
   "execution_count": 54,
   "metadata": {
    "ExecuteTime": {
     "end_time": "2023-07-18T04:31:02.018941Z",
     "start_time": "2023-07-18T04:31:01.907946800Z"
    }
   },
   "outputs": [
    {
     "data": {
      "text/plain": "  dob_years_group  days_employed\n0           30-60            NaN\n1             60+         5000.0\n2      Menor a 30            NaN\n3      Menor a 30         1000.0\n4             60+            NaN",
      "text/html": "<div>\n<style scoped>\n    .dataframe tbody tr th:only-of-type {\n        vertical-align: middle;\n    }\n\n    .dataframe tbody tr th {\n        vertical-align: top;\n    }\n\n    .dataframe thead th {\n        text-align: right;\n    }\n</style>\n<table border=\"1\" class=\"dataframe\">\n  <thead>\n    <tr style=\"text-align: right;\">\n      <th></th>\n      <th>dob_years_group</th>\n      <th>days_employed</th>\n    </tr>\n  </thead>\n  <tbody>\n    <tr>\n      <th>0</th>\n      <td>30-60</td>\n      <td>NaN</td>\n    </tr>\n    <tr>\n      <th>1</th>\n      <td>60+</td>\n      <td>5000.0</td>\n    </tr>\n    <tr>\n      <th>2</th>\n      <td>Menor a 30</td>\n      <td>NaN</td>\n    </tr>\n    <tr>\n      <th>3</th>\n      <td>Menor a 30</td>\n      <td>1000.0</td>\n    </tr>\n    <tr>\n      <th>4</th>\n      <td>60+</td>\n      <td>NaN</td>\n    </tr>\n  </tbody>\n</table>\n</div>"
     },
     "execution_count": 54,
     "metadata": {},
     "output_type": "execute_result"
    }
   ],
   "source": [
    "# Comprueba que la función funciona\n",
    "## Creamos una dataset de pruebas\n",
    "data_prueba = {'dob_years_group':['30-60', '60+', 'Menor a 30', 'Menor a 30', '60+'],\n",
    "               'days_employed':[float(\"nan\"), 5000, float(\"nan\"), 1000, float(\"nan\")]}\n",
    "df_prueba = pd.DataFrame(data_prueba)\n",
    "df_prueba"
   ]
  },
  {
   "cell_type": "code",
   "execution_count": 55,
   "metadata": {
    "ExecuteTime": {
     "end_time": "2023-07-18T04:31:02.076966300Z",
     "start_time": "2023-07-18T04:31:01.937964800Z"
    }
   },
   "outputs": [
    {
     "data": {
      "text/plain": "  dob_years_group  days_employed\n0           30-60    3521.233664\n1             60+    5000.000000\n2      Menor a 30     720.380520\n3      Menor a 30    1000.000000\n4             60+    3649.364922",
      "text/html": "<div>\n<style scoped>\n    .dataframe tbody tr th:only-of-type {\n        vertical-align: middle;\n    }\n\n    .dataframe tbody tr th {\n        vertical-align: top;\n    }\n\n    .dataframe thead th {\n        text-align: right;\n    }\n</style>\n<table border=\"1\" class=\"dataframe\">\n  <thead>\n    <tr style=\"text-align: right;\">\n      <th></th>\n      <th>dob_years_group</th>\n      <th>days_employed</th>\n    </tr>\n  </thead>\n  <tbody>\n    <tr>\n      <th>0</th>\n      <td>30-60</td>\n      <td>3521.233664</td>\n    </tr>\n    <tr>\n      <th>1</th>\n      <td>60+</td>\n      <td>5000.000000</td>\n    </tr>\n    <tr>\n      <th>2</th>\n      <td>Menor a 30</td>\n      <td>720.380520</td>\n    </tr>\n    <tr>\n      <th>3</th>\n      <td>Menor a 30</td>\n      <td>1000.000000</td>\n    </tr>\n    <tr>\n      <th>4</th>\n      <td>60+</td>\n      <td>3649.364922</td>\n    </tr>\n  </tbody>\n</table>\n</div>"
     },
     "execution_count": 55,
     "metadata": {},
     "output_type": "execute_result"
    }
   ],
   "source": [
    "## Aplicamos la función al dataset de prueba y verificamos\n",
    "df_prueba['days_employed'] = df_prueba.apply(llenado_employed, axis=1)\n",
    "df_prueba"
   ]
  },
  {
   "cell_type": "code",
   "execution_count": 56,
   "metadata": {
    "ExecuteTime": {
     "end_time": "2023-07-18T04:31:08.592448900Z",
     "start_time": "2023-07-18T04:31:01.971964800Z"
    }
   },
   "outputs": [],
   "source": [
    "# Aplícalo a cada fila\n",
    "data['days_employed'] = data.apply(llenado_employed, axis=1)"
   ]
  },
  {
   "cell_type": "code",
   "execution_count": 57,
   "metadata": {
    "ExecuteTime": {
     "end_time": "2023-07-18T04:31:08.694445800Z",
     "start_time": "2023-07-18T04:31:08.584450700Z"
    }
   },
   "outputs": [
    {
     "data": {
      "text/plain": "children                   0\ndays_employed              0\ndob_years                  0\neducation                  0\neducation_id               0\nfamily_status              0\nfamily_status_id           0\ngender                     0\nincome_type                0\ndebt                       0\ntotal_income               0\npurpose                    0\ndays_employed_group     2081\nyears_employed         17727\ndob_years_group            0\ndtype: int64"
     },
     "execution_count": 57,
     "metadata": {},
     "output_type": "execute_result"
    }
   ],
   "source": [
    "# Comprueba si tenemos algún error\n",
    "data.isna().sum()"
   ]
  },
  {
   "cell_type": "markdown",
   "metadata": {},
   "source": [
    "Las columnas `days_employed_group` y `years_employed` fueron ocupadas para el preproceso de los datos, por lo que podemos volver a calcularlas o eliminarlas. `years_employed` nos podrian ayudar en el análisis final por lo que se volvera a calcular mientras que la columna `days_employed_group` sera eliminada"
   ]
  },
  {
   "cell_type": "code",
   "execution_count": 58,
   "metadata": {
    "ExecuteTime": {
     "end_time": "2023-07-18T04:31:08.695445100Z",
     "start_time": "2023-07-18T04:31:08.633452700Z"
    }
   },
   "outputs": [],
   "source": [
    "# Se recalcula years_employed con la data sin ausentes\n",
    "data['years_employed'] = data.days_employed.apply(get_years_experience)"
   ]
  },
  {
   "cell_type": "code",
   "execution_count": 59,
   "metadata": {
    "ExecuteTime": {
     "end_time": "2023-07-18T04:31:08.695445100Z",
     "start_time": "2023-07-18T04:31:08.665446800Z"
    }
   },
   "outputs": [],
   "source": [
    "# Se elimina days_employed_group del dataset\n",
    "data.drop(['days_employed_group'], axis=1, inplace=True)"
   ]
  },
  {
   "cell_type": "code",
   "execution_count": 60,
   "metadata": {
    "ExecuteTime": {
     "end_time": "2023-07-18T04:31:08.794444800Z",
     "start_time": "2023-07-18T04:31:08.683451400Z"
    }
   },
   "outputs": [
    {
     "data": {
      "text/plain": "children            0\ndays_employed       0\ndob_years           0\neducation           0\neducation_id        0\nfamily_status       0\nfamily_status_id    0\ngender              0\nincome_type         0\ndebt                0\ntotal_income        0\npurpose             0\nyears_employed      0\ndob_years_group     0\ndtype: int64"
     },
     "execution_count": 60,
     "metadata": {},
     "output_type": "execute_result"
    }
   ],
   "source": [
    "# Verificamos el dataset final\n",
    "data.isna().sum()"
   ]
  },
  {
   "cell_type": "markdown",
   "metadata": {},
   "source": [
    "Como podemos checar, hemos restaurado exitosamente los valores de la columna `days_employed`, re-calculado la columna `years_employed` por lo que ya no tenemos datos ausentes en esas columnas. Tambien eliminamos exitosamente la columna `days_employed_group`.\n",
    "\n",
    "Una vez realizados estos pasos, nuestros datos estan libres de ausentos y listos para el análisis final."
   ]
  },
  {
   "cell_type": "markdown",
   "metadata": {},
   "source": [
    "## Clasificación de datos\n",
    "Para responder las hipotesis que planteamos al inicio de nuestro analisis, vamos a tener que clasificar algunas columnas, en particular:\n",
    "\n",
    "1. `purpose` (texto) para tener una visión más condensada de los propositos del prestamo y ver si podemos agrupar lo que la gente comento en unos propositos más generales.\n",
    "\n",
    "2. `total_income` (numerico) para condensar en grupos más acotados los ingresos y poder generar el analisis.\n",
    "\n",
    "Empezemos con la columna `purpose`"
   ]
  },
  {
   "cell_type": "code",
   "execution_count": 61,
   "metadata": {
    "scrolled": true,
    "ExecuteTime": {
     "end_time": "2023-07-18T04:31:08.797449800Z",
     "start_time": "2023-07-18T04:31:08.727450300Z"
    }
   },
   "outputs": [
    {
     "data": {
      "text/plain": "0                  purchase of the house\n1                           car purchase\n2                  purchase of the house\n3                supplementary education\n4                      to have a wedding\n5                  purchase of the house\n6                   housing transactions\n7                              education\n8                       having a wedding\n9    purchase of the house for my family\nName: purpose, dtype: object"
     },
     "execution_count": 61,
     "metadata": {},
     "output_type": "execute_result"
    }
   ],
   "source": [
    "# Muestra los valores de los datos seleccionados para la clasificación\n",
    "data.purpose.head(10)"
   ]
  },
  {
   "cell_type": "code",
   "execution_count": 62,
   "metadata": {
    "ExecuteTime": {
     "end_time": "2023-07-18T04:31:08.798444900Z",
     "start_time": "2023-07-18T04:31:08.743446500Z"
    }
   },
   "outputs": [
    {
     "data": {
      "text/plain": "wedding ceremony                            785\nhaving a wedding                            759\nto have a wedding                           755\nreal estate transactions                    669\nbuy commercial real estate                  655\nbuying property for renting out             647\ntransactions with commercial real estate    643\nhousing transactions                        641\npurchase of the house for my family         636\nhousing                                     635\npurchase of the house                       634\nproperty                                    627\nconstruction of own property                626\ntransactions with my real estate            623\nbuilding a property                         619\npurchase of my own house                    618\nbuilding a real estate                      617\nbuy real estate                             611\nhousing renovation                          602\nbuy residential real estate                 599\nbuying my own car                           501\ngoing to university                         493\ncar                                         487\nsecond-hand car purchase                    479\ncars                                        474\nbuying a second-hand car                    471\nto own a car                                470\nto buy a car                                465\ncar purchase                                457\npurchase of a car                           454\nsupplementary education                     453\nuniversity education                        443\nto get a supplementary education            442\ngetting an education                        439\neducation                                   439\nprofile education                           431\ngetting higher education                    422\nto become educated                          407\nName: purpose, dtype: int64"
     },
     "execution_count": 62,
     "metadata": {},
     "output_type": "execute_result"
    }
   ],
   "source": [
    "# Comprobar los valores únicos\n",
    "data.purpose.value_counts()"
   ]
  },
  {
   "cell_type": "markdown",
   "metadata": {},
   "source": [
    "Al leer los diferentes motivos que las personas comentaron para pedir el prestamo, notamos que hay 4 categorias en las que podemos englobar nuestros datos:\n",
    "\n",
    "1. Realizar su boda\n",
    "2. Renovar, construir o comprar un patrimonio\n",
    "3. Realizar estudios superiores\n",
    "4. Comprar un automovil\n",
    "\n",
    "Teniendo identificados estas categorias, haremos el agrupamiento en una columna nueva llamada `purpose_group`"
   ]
  },
  {
   "cell_type": "code",
   "execution_count": 63,
   "metadata": {
    "ExecuteTime": {
     "end_time": "2023-07-18T04:31:08.799451200Z",
     "start_time": "2023-07-18T04:31:08.760450Z"
    }
   },
   "outputs": [],
   "source": [
    "# Escribamos una función para clasificar los datos en función de temas comunes\n",
    "def purpose_group(purpose):\n",
    "    if \"wedding\" in purpose:\n",
    "        return \"Wedding\";\n",
    "    if (\"real estate\" in purpose) or (\"property\" in purpose) or (\"hous\" in purpose):\n",
    "        return \"House / Real State\";\n",
    "    if \"car\" in purpose:\n",
    "        return \"Car\";\n",
    "    if (\"educat\" in purpose) or (\"university\" in purpose):\n",
    "        return \"Education\"\n",
    "    else:\n",
    "        return \"0\""
   ]
  },
  {
   "cell_type": "code",
   "execution_count": 64,
   "metadata": {
    "ExecuteTime": {
     "end_time": "2023-07-18T04:31:08.827453400Z",
     "start_time": "2023-07-18T04:31:08.777445700Z"
    }
   },
   "outputs": [
    {
     "data": {
      "text/plain": "House / Real State    10702\nCar                    4258\nEducation              3969\nWedding                2299\nName: purpose_group, dtype: int64"
     },
     "execution_count": 64,
     "metadata": {},
     "output_type": "execute_result"
    }
   ],
   "source": [
    "# Crea una columna con las categorías y cuenta los valores en ellas\n",
    "data['purpose_group'] = data.purpose.apply(purpose_group)\n",
    "data.purpose_group.value_counts()"
   ]
  },
  {
   "cell_type": "markdown",
   "metadata": {},
   "source": [
    "A continuación pasaremos con el caso de la columna `total_income`. Para clasificar estos datos, debemos generar una estadistica resumida de ellos y ver en que clusters podemos hacer la agrupación"
   ]
  },
  {
   "cell_type": "code",
   "execution_count": 65,
   "metadata": {
    "ExecuteTime": {
     "end_time": "2023-07-18T04:31:09.006449200Z",
     "start_time": "2023-07-18T04:31:08.807453600Z"
    }
   },
   "outputs": [
    {
     "data": {
      "text/plain": "0        40620.102\n1        17932.802\n2        23341.752\n3        42820.568\n4        25378.572\n           ...    \n21223    35966.698\n21224    24959.969\n21225    14347.610\n21226    39054.888\n21227    13127.587\nName: total_income, Length: 21228, dtype: float64"
     },
     "execution_count": 65,
     "metadata": {},
     "output_type": "execute_result"
    }
   ],
   "source": [
    "# Revisar todos los datos numéricos en la columna seleccionada para la clasificación\n",
    "data.total_income"
   ]
  },
  {
   "cell_type": "code",
   "execution_count": 66,
   "metadata": {
    "ExecuteTime": {
     "end_time": "2023-07-18T04:31:09.008448200Z",
     "start_time": "2023-07-18T04:31:08.823449300Z"
    }
   },
   "outputs": [
    {
     "data": {
      "text/plain": "count     21228.000000\nmean      26158.861145\nstd       15829.883042\nmin        3306.762000\n25%       17199.970250\n50%       22547.142500\n75%       31383.030500\nmax      362496.645000\nName: total_income, dtype: float64"
     },
     "execution_count": 66,
     "metadata": {},
     "output_type": "execute_result"
    }
   ],
   "source": [
    "# Obtener estadísticas resumidas para la columna\n",
    "data.total_income.describe()"
   ]
  },
  {
   "cell_type": "markdown",
   "metadata": {},
   "source": [
    "Una vez viendo la estadistica, podemos notar que el dato minimo de la columna es 3,306 y el máximo es 362,496, sin embargo los datos estan distribuidos principalemente entre los 10,000 y los 30,000  (vemos que el 3er cuartil llega a 31,383) por lo que agruparemos los datos en estas clasificaciones:\n",
    "\n",
    "1. Menos a 10,000\n",
    "2. Entre 10,000 y 20,000\n",
    "3. Entre 20,000 y 30,000\n",
    "4. Mayor a 30,000"
   ]
  },
  {
   "cell_type": "code",
   "execution_count": 67,
   "metadata": {
    "ExecuteTime": {
     "end_time": "2023-07-18T04:31:09.008448200Z",
     "start_time": "2023-07-18T04:31:08.840451600Z"
    }
   },
   "outputs": [],
   "source": [
    "# Crear una función para clasificar en diferentes grupos numéricos basándose en rangos\n",
    "def total_income_group(total_income):\n",
    "    if total_income < 10000:\n",
    "        return \"Menor a 10,000\"\n",
    "    if total_income < 20000:\n",
    "        return \"Entre 10,000 y 20,000\"\n",
    "    if total_income < 30000:\n",
    "        return \"Entre 20,000 y 30,000\"\n",
    "    if total_income > 30000:\n",
    "        return \"Mayor a 30,000\""
   ]
  },
  {
   "cell_type": "code",
   "execution_count": 68,
   "metadata": {
    "ExecuteTime": {
     "end_time": "2023-07-18T04:31:09.009449900Z",
     "start_time": "2023-07-18T04:31:08.855456500Z"
    }
   },
   "outputs": [],
   "source": [
    "# Crear una columna con categorías\n",
    "data['total_income_group'] = data.total_income.apply(total_income_group)"
   ]
  },
  {
   "cell_type": "code",
   "execution_count": 69,
   "metadata": {
    "scrolled": true,
    "ExecuteTime": {
     "end_time": "2023-07-18T04:31:09.010448400Z",
     "start_time": "2023-07-18T04:31:08.886447100Z"
    }
   },
   "outputs": [
    {
     "data": {
      "text/plain": "Entre 10,000 y 20,000    7900\nEntre 20,000 y 30,000    6529\nMayor a 30,000           5883\nMenor a 10,000            916\nName: total_income_group, dtype: int64"
     },
     "execution_count": 69,
     "metadata": {},
     "output_type": "execute_result"
    }
   ],
   "source": [
    "# Contar los valores de cada categoría para ver la distribución\n",
    "data.total_income_group.value_counts()"
   ]
  },
  {
   "cell_type": "markdown",
   "metadata": {},
   "source": [
    "Una vez terminadas nuestras clasificaciones, estamos listos para pasar a la parte final."
   ]
  },
  {
   "cell_type": "markdown",
   "metadata": {},
   "source": [
    "## Comprobación de las hipótesis\n"
   ]
  },
  {
   "cell_type": "markdown",
   "metadata": {},
   "source": [
    "**¿Existe una correlación entre tener hijos y pagar a tiempo?**"
   ]
  },
  {
   "cell_type": "code",
   "execution_count": 70,
   "metadata": {
    "ExecuteTime": {
     "end_time": "2023-07-18T04:31:09.034450800Z",
     "start_time": "2023-07-18T04:31:08.903451900Z"
    }
   },
   "outputs": [
    {
     "data": {
      "text/plain": "           debt       incumplimiento\n           size   sum               \nchildren                            \n0         14019  1058       7.546901\n1          4792   441       9.202838\n2          2039   194       9.514468\n3           328    27       8.231707\n4            41     4       9.756098\n5             9     0       0.000000",
      "text/html": "<div>\n<style scoped>\n    .dataframe tbody tr th:only-of-type {\n        vertical-align: middle;\n    }\n\n    .dataframe tbody tr th {\n        vertical-align: top;\n    }\n\n    .dataframe thead tr th {\n        text-align: left;\n    }\n\n    .dataframe thead tr:last-of-type th {\n        text-align: right;\n    }\n</style>\n<table border=\"1\" class=\"dataframe\">\n  <thead>\n    <tr>\n      <th></th>\n      <th colspan=\"2\" halign=\"left\">debt</th>\n      <th>incumplimiento</th>\n    </tr>\n    <tr>\n      <th></th>\n      <th>size</th>\n      <th>sum</th>\n      <th></th>\n    </tr>\n    <tr>\n      <th>children</th>\n      <th></th>\n      <th></th>\n      <th></th>\n    </tr>\n  </thead>\n  <tbody>\n    <tr>\n      <th>0</th>\n      <td>14019</td>\n      <td>1058</td>\n      <td>7.546901</td>\n    </tr>\n    <tr>\n      <th>1</th>\n      <td>4792</td>\n      <td>441</td>\n      <td>9.202838</td>\n    </tr>\n    <tr>\n      <th>2</th>\n      <td>2039</td>\n      <td>194</td>\n      <td>9.514468</td>\n    </tr>\n    <tr>\n      <th>3</th>\n      <td>328</td>\n      <td>27</td>\n      <td>8.231707</td>\n    </tr>\n    <tr>\n      <th>4</th>\n      <td>41</td>\n      <td>4</td>\n      <td>9.756098</td>\n    </tr>\n    <tr>\n      <th>5</th>\n      <td>9</td>\n      <td>0</td>\n      <td>0.000000</td>\n    </tr>\n  </tbody>\n</table>\n</div>"
     },
     "execution_count": 70,
     "metadata": {},
     "output_type": "execute_result"
    }
   ],
   "source": [
    "# Comprueba los datos sobre los hijos y los pagos puntuales\n",
    "hijos_pagos = data.groupby('children').agg({'debt': ['size', 'sum']})\n",
    "\n",
    "# Calcular la tasa de incumplimiento en función del número de hijos\n",
    "hijos_pagos['incumplimiento'] = (hijos_pagos['debt']['sum'] / hijos_pagos['debt']['size']) * 100\n",
    "hijos_pagos"
   ]
  },
  {
   "cell_type": "markdown",
   "metadata": {},
   "source": [
    "**Conclusión**\n",
    "\n",
    "Como podemos ver en la tabla, las categorias que menos incumplimiento tienen son las personas con ningun hijo con 7.54% y sorprendentemente las personas con 5 hijos (0%). Las personas con 1 o hasta 4 hijos presentan mayores tasas de incumplimiento. No podemos asegurar una correlación como tal viendo los datos ya que uno podria pensar que a más hijos, mayor seria la imposibilidad de pagar un prestamo sin embargo las personas con 3 hijos presentan una menor tasa de incumplimiento que las personas con 1 o 2 hijos.\n",
    "\n",
    "Con toda esta información, consideramos que el número de hijos podria ser considerado como una métrica secundaria en el impacto de si una persona puede o no caer en el incumplimiento de un pago."
   ]
  },
  {
   "cell_type": "markdown",
   "metadata": {},
   "source": [
    "**¿Existe una correlación entre la situación familiar y el pago a tiempo?**"
   ]
  },
  {
   "cell_type": "code",
   "execution_count": 71,
   "metadata": {
    "ExecuteTime": {
     "end_time": "2023-07-18T04:31:09.034450800Z",
     "start_time": "2023-07-18T04:31:08.933447900Z"
    }
   },
   "outputs": [
    {
     "data": {
      "text/plain": "                    debt      incumplimiento\n                    size  sum               \nfamily_status                               \ncivil partnership   4112  383       9.314202\ndivorced            1179   84       7.124682\nmarried            12212  923       7.558140\nunmarried           2779  272       9.787693\nwidow / widower      946   62       6.553911",
      "text/html": "<div>\n<style scoped>\n    .dataframe tbody tr th:only-of-type {\n        vertical-align: middle;\n    }\n\n    .dataframe tbody tr th {\n        vertical-align: top;\n    }\n\n    .dataframe thead tr th {\n        text-align: left;\n    }\n\n    .dataframe thead tr:last-of-type th {\n        text-align: right;\n    }\n</style>\n<table border=\"1\" class=\"dataframe\">\n  <thead>\n    <tr>\n      <th></th>\n      <th colspan=\"2\" halign=\"left\">debt</th>\n      <th>incumplimiento</th>\n    </tr>\n    <tr>\n      <th></th>\n      <th>size</th>\n      <th>sum</th>\n      <th></th>\n    </tr>\n    <tr>\n      <th>family_status</th>\n      <th></th>\n      <th></th>\n      <th></th>\n    </tr>\n  </thead>\n  <tbody>\n    <tr>\n      <th>civil partnership</th>\n      <td>4112</td>\n      <td>383</td>\n      <td>9.314202</td>\n    </tr>\n    <tr>\n      <th>divorced</th>\n      <td>1179</td>\n      <td>84</td>\n      <td>7.124682</td>\n    </tr>\n    <tr>\n      <th>married</th>\n      <td>12212</td>\n      <td>923</td>\n      <td>7.558140</td>\n    </tr>\n    <tr>\n      <th>unmarried</th>\n      <td>2779</td>\n      <td>272</td>\n      <td>9.787693</td>\n    </tr>\n    <tr>\n      <th>widow / widower</th>\n      <td>946</td>\n      <td>62</td>\n      <td>6.553911</td>\n    </tr>\n  </tbody>\n</table>\n</div>"
     },
     "execution_count": 71,
     "metadata": {},
     "output_type": "execute_result"
    }
   ],
   "source": [
    "# Comprueba los datos del estado familiar y los pagos a tiempo\n",
    "estadofamiliar_pagos = data.groupby('family_status').agg({'debt': ['size', 'sum']})\n",
    "\n",
    "# Calcular la tasa de incumplimiento basada en el estado familiar\n",
    "estadofamiliar_pagos['incumplimiento'] = (estadofamiliar_pagos['debt']['sum'] / estadofamiliar_pagos['debt']['size']) * 100\n",
    "estadofamiliar_pagos"
   ]
  },
  {
   "cell_type": "markdown",
   "metadata": {},
   "source": [
    "**Conclusión**\n",
    "\n",
    "Al ver la tabla podemos notar que las categorias con mayor tasa de incumplimiento en sus pagos son en primer lugar las personas solteras y en segundo lugar las personas en una union civil. Del otro lado tenemos que las personas viudas son las personas con menor tasa de incumplimiento.\n",
    "\n",
    "Asegurar una correlación entre el estado civil de una persona con la posibilidad de que incumpla con sus pagos podria ser dificil en este caso, sin embargo algo que si podemos concluir es que las personas sin ningun compromiso civil actual o pasado son las que más tienden a incumplir en sus creditos y podria considerarse un factor a tomar en cuenta como metrica secundaria."
   ]
  },
  {
   "cell_type": "markdown",
   "metadata": {},
   "source": [
    "**¿Existe una correlación entre el nivel de ingresos y el pago a tiempo?**"
   ]
  },
  {
   "cell_type": "code",
   "execution_count": 72,
   "metadata": {
    "ExecuteTime": {
     "end_time": "2023-07-18T04:31:09.035452Z",
     "start_time": "2023-07-18T04:31:08.964448700Z"
    }
   },
   "outputs": [
    {
     "data": {
      "text/plain": "                       debt      incumplimiento\n                       size  sum               \ntotal_income_group                             \nEntre 10,000 y 20,000  7900  688       8.708861\nEntre 20,000 y 30,000  6529  543       8.316741\nMayor a 30,000         5883  435       7.394187\nMenor a 10,000          916   58       6.331878",
      "text/html": "<div>\n<style scoped>\n    .dataframe tbody tr th:only-of-type {\n        vertical-align: middle;\n    }\n\n    .dataframe tbody tr th {\n        vertical-align: top;\n    }\n\n    .dataframe thead tr th {\n        text-align: left;\n    }\n\n    .dataframe thead tr:last-of-type th {\n        text-align: right;\n    }\n</style>\n<table border=\"1\" class=\"dataframe\">\n  <thead>\n    <tr>\n      <th></th>\n      <th colspan=\"2\" halign=\"left\">debt</th>\n      <th>incumplimiento</th>\n    </tr>\n    <tr>\n      <th></th>\n      <th>size</th>\n      <th>sum</th>\n      <th></th>\n    </tr>\n    <tr>\n      <th>total_income_group</th>\n      <th></th>\n      <th></th>\n      <th></th>\n    </tr>\n  </thead>\n  <tbody>\n    <tr>\n      <th>Entre 10,000 y 20,000</th>\n      <td>7900</td>\n      <td>688</td>\n      <td>8.708861</td>\n    </tr>\n    <tr>\n      <th>Entre 20,000 y 30,000</th>\n      <td>6529</td>\n      <td>543</td>\n      <td>8.316741</td>\n    </tr>\n    <tr>\n      <th>Mayor a 30,000</th>\n      <td>5883</td>\n      <td>435</td>\n      <td>7.394187</td>\n    </tr>\n    <tr>\n      <th>Menor a 10,000</th>\n      <td>916</td>\n      <td>58</td>\n      <td>6.331878</td>\n    </tr>\n  </tbody>\n</table>\n</div>"
     },
     "execution_count": 72,
     "metadata": {},
     "output_type": "execute_result"
    }
   ],
   "source": [
    "# Comprueba los datos del nivel de ingresos y los pagos a tiempo\n",
    "totalincome_pagos = data.groupby('total_income_group').agg({'debt': ['size', 'sum']})\n",
    "\n",
    "# Calcular la tasa de incumplimiento basada en el nivel de ingresos\n",
    "totalincome_pagos['incumplimiento'] = (totalincome_pagos['debt']['sum'] / totalincome_pagos['debt']['size']) * 100\n",
    "totalincome_pagos"
   ]
  },
  {
   "cell_type": "markdown",
   "metadata": {},
   "source": [
    "**Conclusión**\n",
    "\n",
    "Viendo la tabla con sus resultados podemos notar que las personas con un ingreso bajo (menor a 10,000) y alto (mayor a 30,000) son las que menos tasa de incumplimiento presentan mientras que las personas con un rango de ingreso medio (10,000-20,000) y medio-alto(20,000-30,000) son las que tienen una tasa más alta.\n",
    "\n",
    "Consideramos esta metrica con un impacto significativo en el posible incumplimiento de un prestamos ya que refleja la posibilidad de la persona de pagar este mismo."
   ]
  },
  {
   "cell_type": "markdown",
   "metadata": {},
   "source": [
    "**¿Cómo afecta el propósito del crédito a la tasa de incumplimiento?**"
   ]
  },
  {
   "cell_type": "code",
   "execution_count": 73,
   "metadata": {
    "ExecuteTime": {
     "end_time": "2023-07-18T04:31:09.035452Z",
     "start_time": "2023-07-18T04:31:08.997455200Z"
    }
   },
   "outputs": [
    {
     "data": {
      "text/plain": "                     debt      incumplimiento\n                     size  sum               \npurpose_group                                \nCar                  4258  397       9.323626\nEducation            3969  369       9.297052\nHouse / Real State  10702  777       7.260325\nWedding              2299  181       7.872988",
      "text/html": "<div>\n<style scoped>\n    .dataframe tbody tr th:only-of-type {\n        vertical-align: middle;\n    }\n\n    .dataframe tbody tr th {\n        vertical-align: top;\n    }\n\n    .dataframe thead tr th {\n        text-align: left;\n    }\n\n    .dataframe thead tr:last-of-type th {\n        text-align: right;\n    }\n</style>\n<table border=\"1\" class=\"dataframe\">\n  <thead>\n    <tr>\n      <th></th>\n      <th colspan=\"2\" halign=\"left\">debt</th>\n      <th>incumplimiento</th>\n    </tr>\n    <tr>\n      <th></th>\n      <th>size</th>\n      <th>sum</th>\n      <th></th>\n    </tr>\n    <tr>\n      <th>purpose_group</th>\n      <th></th>\n      <th></th>\n      <th></th>\n    </tr>\n  </thead>\n  <tbody>\n    <tr>\n      <th>Car</th>\n      <td>4258</td>\n      <td>397</td>\n      <td>9.323626</td>\n    </tr>\n    <tr>\n      <th>Education</th>\n      <td>3969</td>\n      <td>369</td>\n      <td>9.297052</td>\n    </tr>\n    <tr>\n      <th>House / Real State</th>\n      <td>10702</td>\n      <td>777</td>\n      <td>7.260325</td>\n    </tr>\n    <tr>\n      <th>Wedding</th>\n      <td>2299</td>\n      <td>181</td>\n      <td>7.872988</td>\n    </tr>\n  </tbody>\n</table>\n</div>"
     },
     "execution_count": 73,
     "metadata": {},
     "output_type": "execute_result"
    }
   ],
   "source": [
    "# Consulta los porcentajes de tasa de incumplimiento para cada propósito del crédito y analízalos\n",
    "purpose_pagos = data.groupby('purpose_group').agg({'debt': ['size', 'sum']})\n",
    "purpose_pagos['incumplimiento'] = (purpose_pagos['debt']['sum'] / purpose_pagos['debt']['size']) * 100\n",
    "purpose_pagos"
   ]
  },
  {
   "cell_type": "markdown",
   "metadata": {},
   "source": [
    "**Conclusión**\n",
    "\n",
    "Viendo la tabla y sus resultados, podemos ver que las categorias con mayor tasa de incumplimiento son las personas que su proposito del prestamo es comprar un carro o realizar estudios superiores. \n",
    "Mientras que la categoria con menor tasa de incumplimiento es para comprar/construir o renovar su patrimonio.\n",
    "\n",
    "Consideramos esta métrica con un impacto significativo en el posible incumplimiento de un prestamo ya que esta nos puede reflejar si el motivo de este prestamo puede ser de bajo o alto riesgo."
   ]
  },
  {
   "cell_type": "markdown",
   "metadata": {},
   "source": [
    "# Conclusión general \n",
    "\n",
    "En general, los datos presentaron muchos datos problemáticos que se tuvieron que analizar y corregir, sin mencionar los datos ausentes que se tuvieron en las columnas `days_employed` y `total_income`. Estos fueron exitosamente rellandos clasificando la media y mediana por diferentes parametros. Finalmente clasificamos las columnas de `total_income` y `purpose` con el fin de poder generar un analisis más específico.\n",
    "\n",
    "[Enumera tus conclusiones con respecto a las preguntas planteadas aquí también.]\n",
    "Con respecto a nuestras hipotesis, llegamos a estas conclusiones finales:\n",
    "\n",
    "- ¿Hay alguna conexión entre tener hijos y pagar un préstamo a tiempo?\n",
    "\n",
    "Hay mucha disparidad en los resultados sin embargo pudimos concluir que las personas sin hijos tienen menor tasa de incumplimiento y consideramos que esta métrica deberia ser secundaria al decidir si una persona recibe o no un préstamo.\n",
    "\n",
    "- ¿Existe una conexión entre el estado civil y el pago a tiempo de un préstamo?\n",
    "\n",
    "Pudimos comcluir que las personas sin ningun tipo de compromiso civil tienen un tasa de incumplimiento más alta que las demás sin embargo la conexión no las consideramos muy significativa por lo que esta métrica debería ser secundaria al decidir si una persona recibe o no un préstamo.\n",
    "\n",
    "- ¿Existe una conexión entre el nivel de ingresos y el pago a tiempo de un préstamo?\n",
    "\n",
    "Aqui pudimos concluir que las personas con un ingreso medio (10,000-20,000) y medio-alto (20,000-30,000) son las que más alta tasa de incumplimiento presentan y consideramos que hay una conexión significativa entre el nivel de ingresos y el pago a tiempo ya que esta métrica nos refleja la capacidad de pago de cada persona y debe ser considerada como métrica primaria al decidir si una persona recibe o no un préstamo.\n",
    "\n",
    "- ¿Cómo afectan los diferentes propósitos del préstamo al reembolso a tiempo del préstamo?\n",
    "\n",
    "Al realizar el análisis concluimos que es un métrica primaria ya que vemos una relación entre motivos de alto riesgo con tasas de incumplimiento más altas (compra de autos, etc) mientras que los motivos más estables presentan menor tasa de incumplimiento (compra de patrimonio, etc)."
   ]
  }
 ],
 "metadata": {
  "ExecuteTimeLog": [
   {
    "duration": 2741,
    "start_time": "2021-10-21T01:08:49.480Z"
   },
   {
    "duration": 52,
    "start_time": "2021-10-21T01:08:53.315Z"
   },
   {
    "duration": 49,
    "start_time": "2021-10-21T01:08:57.432Z"
   },
   {
    "duration": 70,
    "start_time": "2021-10-21T01:09:07.706Z"
   }
  ],
  "kernelspec": {
   "display_name": "Python 3 (ipykernel)",
   "language": "python",
   "name": "python3"
  },
  "language_info": {
   "codemirror_mode": {
    "name": "ipython",
    "version": 3
   },
   "file_extension": ".py",
   "mimetype": "text/x-python",
   "name": "python",
   "nbconvert_exporter": "python",
   "pygments_lexer": "ipython3",
   "version": "3.9.5"
  },
  "toc": {
   "base_numbering": 1,
   "nav_menu": {},
   "number_sections": true,
   "sideBar": true,
   "skip_h1_title": true,
   "title_cell": "Table of Contents",
   "title_sidebar": "Contents",
   "toc_cell": false,
   "toc_position": {},
   "toc_section_display": true,
   "toc_window_display": false
  }
 },
 "nbformat": 4,
 "nbformat_minor": 2
}
